{
  "nbformat": 4,
  "nbformat_minor": 0,
  "metadata": {
    "colab": {
      "name": "Zadanie_4_Dominik_Zalewski_s24216.ipynb",
      "provenance": [],
      "collapsed_sections": [],
      "include_colab_link": true
    },
    "kernelspec": {
      "name": "python3",
      "display_name": "Python 3"
    }
  },
  "cells": [
    {
      "cell_type": "markdown",
      "metadata": {
        "id": "view-in-github",
        "colab_type": "text"
      },
      "source": [
        "<a href=\"https://colab.research.google.com/github/doxenix/WUM/blob/main/Zadanie_4_Dominik_Zalewski_s24216.ipynb\" target=\"_parent\"><img src=\"https://colab.research.google.com/assets/colab-badge.svg\" alt=\"Open In Colab\"/></a>"
      ]
    },
    {
      "cell_type": "markdown",
      "metadata": {
        "id": "yIIrmjGE-Fee"
      },
      "source": [
        "# Podział zbioru treningowego i miary jakości\n",
        "\n",
        "#### Danijel Koržinek <danijel@pja.edu.pl>\n",
        "\n",
        "Uruchom poniższy blok:"
      ]
    },
    {
      "cell_type": "code",
      "metadata": {
        "id": "6I9j1MNC60uY",
        "colab": {
          "base_uri": "https://localhost:8080/"
        },
        "outputId": "2b7ba5e6-678e-4c12-d728-921725d4e11d"
      },
      "source": [
        "import warnings\n",
        "warnings.filterwarnings(\"ignore\", category=FutureWarning) \n",
        "warnings.filterwarnings(\"ignore\", category=RuntimeWarning)\n",
        "warnings.filterwarnings(\"ignore\", category=UserWarning)      \n",
        "%pylab inline"
      ],
      "execution_count": null,
      "outputs": [
        {
          "output_type": "stream",
          "name": "stdout",
          "text": [
            "Populating the interactive namespace from numpy and matplotlib\n"
          ]
        }
      ]
    },
    {
      "cell_type": "markdown",
      "metadata": {
        "id": "HmARYkEC-Cj_"
      },
      "source": [
        "Zacznijmy od wczytania zbioru danych z biblioteki `sklearn.datasets`. Zapisz wynik funkcji `load_breast_cancer` do zmiennej:"
      ]
    },
    {
      "cell_type": "code",
      "metadata": {
        "id": "Ntz-Nng9Oi0p"
      },
      "source": [
        "from sklearn.datasets import load_breast_cancer\n",
        "\n",
        "data = load_breast_cancer()"
      ],
      "execution_count": null,
      "outputs": []
    },
    {
      "cell_type": "markdown",
      "metadata": {
        "id": "2ehB8jor-kf2"
      },
      "source": [
        "Wypisz wszystkie składowe `keys()` otrzymanego zbioru:"
      ]
    },
    {
      "cell_type": "code",
      "metadata": {
        "id": "Nt6oOEYRPGkQ",
        "colab": {
          "base_uri": "https://localhost:8080/"
        },
        "outputId": "bbcc53dc-1d5d-4846-c26d-ad1f3a99cd32"
      },
      "source": [
        "data.keys()"
      ],
      "execution_count": null,
      "outputs": [
        {
          "output_type": "execute_result",
          "data": {
            "text/plain": [
              "dict_keys(['data', 'target', 'frame', 'target_names', 'DESCR', 'feature_names', 'filename', 'data_module'])"
            ]
          },
          "metadata": {},
          "execution_count": 3
        }
      ]
    },
    {
      "cell_type": "markdown",
      "metadata": {
        "id": "VNrE4rE_-r5l"
      },
      "source": [
        "Zobaczmy składową `DESCR`:"
      ]
    },
    {
      "cell_type": "code",
      "metadata": {
        "id": "u9LwcsQ_PHPi",
        "colab": {
          "base_uri": "https://localhost:8080/",
          "height": 105
        },
        "outputId": "5e2e5e9b-0646-4e79-871d-e6f5f88b08ca"
      },
      "source": [
        "data.DESCR"
      ],
      "execution_count": null,
      "outputs": [
        {
          "output_type": "execute_result",
          "data": {
            "text/plain": [
              "'.. _breast_cancer_dataset:\\n\\nBreast cancer wisconsin (diagnostic) dataset\\n--------------------------------------------\\n\\n**Data Set Characteristics:**\\n\\n    :Number of Instances: 569\\n\\n    :Number of Attributes: 30 numeric, predictive attributes and the class\\n\\n    :Attribute Information:\\n        - radius (mean of distances from center to points on the perimeter)\\n        - texture (standard deviation of gray-scale values)\\n        - perimeter\\n        - area\\n        - smoothness (local variation in radius lengths)\\n        - compactness (perimeter^2 / area - 1.0)\\n        - concavity (severity of concave portions of the contour)\\n        - concave points (number of concave portions of the contour)\\n        - symmetry\\n        - fractal dimension (\"coastline approximation\" - 1)\\n\\n        The mean, standard error, and \"worst\" or largest (mean of the three\\n        worst/largest values) of these features were computed for each image,\\n        resulting in 30 features.  For instance, field 0 is Mean Radius, field\\n        10 is Radius SE, field 20 is Worst Radius.\\n\\n        - class:\\n                - WDBC-Malignant\\n                - WDBC-Benign\\n\\n    :Summary Statistics:\\n\\n    ===================================== ====== ======\\n                                           Min    Max\\n    ===================================== ====== ======\\n    radius (mean):                        6.981  28.11\\n    texture (mean):                       9.71   39.28\\n    perimeter (mean):                     43.79  188.5\\n    area (mean):                          143.5  2501.0\\n    smoothness (mean):                    0.053  0.163\\n    compactness (mean):                   0.019  0.345\\n    concavity (mean):                     0.0    0.427\\n    concave points (mean):                0.0    0.201\\n    symmetry (mean):                      0.106  0.304\\n    fractal dimension (mean):             0.05   0.097\\n    radius (standard error):              0.112  2.873\\n    texture (standard error):             0.36   4.885\\n    perimeter (standard error):           0.757  21.98\\n    area (standard error):                6.802  542.2\\n    smoothness (standard error):          0.002  0.031\\n    compactness (standard error):         0.002  0.135\\n    concavity (standard error):           0.0    0.396\\n    concave points (standard error):      0.0    0.053\\n    symmetry (standard error):            0.008  0.079\\n    fractal dimension (standard error):   0.001  0.03\\n    radius (worst):                       7.93   36.04\\n    texture (worst):                      12.02  49.54\\n    perimeter (worst):                    50.41  251.2\\n    area (worst):                         185.2  4254.0\\n    smoothness (worst):                   0.071  0.223\\n    compactness (worst):                  0.027  1.058\\n    concavity (worst):                    0.0    1.252\\n    concave points (worst):               0.0    0.291\\n    symmetry (worst):                     0.156  0.664\\n    fractal dimension (worst):            0.055  0.208\\n    ===================================== ====== ======\\n\\n    :Missing Attribute Values: None\\n\\n    :Class Distribution: 212 - Malignant, 357 - Benign\\n\\n    :Creator:  Dr. William H. Wolberg, W. Nick Street, Olvi L. Mangasarian\\n\\n    :Donor: Nick Street\\n\\n    :Date: November, 1995\\n\\nThis is a copy of UCI ML Breast Cancer Wisconsin (Diagnostic) datasets.\\nhttps://goo.gl/U2Uwz2\\n\\nFeatures are computed from a digitized image of a fine needle\\naspirate (FNA) of a breast mass.  They describe\\ncharacteristics of the cell nuclei present in the image.\\n\\nSeparating plane described above was obtained using\\nMultisurface Method-Tree (MSM-T) [K. P. Bennett, \"Decision Tree\\nConstruction Via Linear Programming.\" Proceedings of the 4th\\nMidwest Artificial Intelligence and Cognitive Science Society,\\npp. 97-101, 1992], a classification method which uses linear\\nprogramming to construct a decision tree.  Relevant features\\nwere selected using an exhaustive search in the space of 1-4\\nfeatures and 1-3 separating planes.\\n\\nThe actual linear program used to obtain the separating plane\\nin the 3-dimensional space is that described in:\\n[K. P. Bennett and O. L. Mangasarian: \"Robust Linear\\nProgramming Discrimination of Two Linearly Inseparable Sets\",\\nOptimization Methods and Software 1, 1992, 23-34].\\n\\nThis database is also available through the UW CS ftp server:\\n\\nftp ftp.cs.wisc.edu\\ncd math-prog/cpo-dataset/machine-learn/WDBC/\\n\\n.. topic:: References\\n\\n   - W.N. Street, W.H. Wolberg and O.L. Mangasarian. Nuclear feature extraction \\n     for breast tumor diagnosis. IS&T/SPIE 1993 International Symposium on \\n     Electronic Imaging: Science and Technology, volume 1905, pages 861-870,\\n     San Jose, CA, 1993.\\n   - O.L. Mangasarian, W.N. Street and W.H. Wolberg. Breast cancer diagnosis and \\n     prognosis via linear programming. Operations Research, 43(4), pages 570-577, \\n     July-August 1995.\\n   - W.H. Wolberg, W.N. Street, and O.L. Mangasarian. Machine learning techniques\\n     to diagnose breast cancer from fine-needle aspirates. Cancer Letters 77 (1994) \\n     163-171.'"
            ],
            "application/vnd.google.colaboratory.intrinsic+json": {
              "type": "string"
            }
          },
          "metadata": {},
          "execution_count": 4
        }
      ]
    },
    {
      "cell_type": "markdown",
      "metadata": {
        "id": "x20SpfQW-yC6"
      },
      "source": [
        "Jest to zbiór przeznaczony do binarnej klasyfikacji rzeczywistych danych liczbowych. Wypisz nazwy cech (`feature_names`) i klas (`target_names`):"
      ]
    },
    {
      "cell_type": "code",
      "metadata": {
        "id": "Xdobxsx4PWfk",
        "colab": {
          "base_uri": "https://localhost:8080/"
        },
        "outputId": "b275246b-1869-4e0f-f7fc-7b6fb06fcd49"
      },
      "source": [
        "print(data.feature_names)\n",
        "print('\\n')\n",
        "print(data.target_names)"
      ],
      "execution_count": null,
      "outputs": [
        {
          "output_type": "stream",
          "name": "stdout",
          "text": [
            "['mean radius' 'mean texture' 'mean perimeter' 'mean area'\n",
            " 'mean smoothness' 'mean compactness' 'mean concavity'\n",
            " 'mean concave points' 'mean symmetry' 'mean fractal dimension'\n",
            " 'radius error' 'texture error' 'perimeter error' 'area error'\n",
            " 'smoothness error' 'compactness error' 'concavity error'\n",
            " 'concave points error' 'symmetry error' 'fractal dimension error'\n",
            " 'worst radius' 'worst texture' 'worst perimeter' 'worst area'\n",
            " 'worst smoothness' 'worst compactness' 'worst concavity'\n",
            " 'worst concave points' 'worst symmetry' 'worst fractal dimension']\n",
            "\n",
            "\n",
            "['malignant' 'benign']\n"
          ]
        }
      ]
    },
    {
      "cell_type": "markdown",
      "metadata": {
        "id": "5RT6lDh5-_qA"
      },
      "source": [
        "Wypisz rozmiary tablic danych (`data`) i klas (`target`):"
      ]
    },
    {
      "cell_type": "code",
      "metadata": {
        "id": "WEf9j0pg2y_n",
        "colab": {
          "base_uri": "https://localhost:8080/"
        },
        "outputId": "c7f3e13b-55f2-40d5-ade1-f352e79d41f1"
      },
      "source": [
        "print(data.data.shape)\n",
        "print('\\n')\n",
        "print(data.target.shape)"
      ],
      "execution_count": null,
      "outputs": [
        {
          "output_type": "stream",
          "name": "stdout",
          "text": [
            "(569, 30)\n",
            "\n",
            "\n",
            "(569,)\n"
          ]
        }
      ]
    },
    {
      "cell_type": "markdown",
      "metadata": {
        "id": "5ykrQRQD_mT8"
      },
      "source": [
        "## Podział danych\n",
        "\n",
        "Użyj metody `train_test_split` z modułu `sklearn.model_selection` żeby podzielić zbiór na część treningową (90%) i testową (10%). Użyj straktyfikacji w podziale danych:"
      ]
    },
    {
      "cell_type": "code",
      "metadata": {
        "id": "uo9XsNShP2pG"
      },
      "source": [
        "from sklearn.model_selection import train_test_split\n",
        "\n",
        "X_train, X_test, y_train, y_test = train_test_split(data.data, data.target, test_size=0.9)"
      ],
      "execution_count": null,
      "outputs": []
    },
    {
      "cell_type": "markdown",
      "metadata": {
        "id": "ZRJ8VIfhAAiI"
      },
      "source": [
        "Wczytaj następujące klasyfikatory:\n",
        "\n",
        "```\n",
        "from sklearn.linear_model import LinearRegression\n",
        "from sklearn.gaussian_process import GaussianProcessClassifier\n",
        "from sklearn.naive_bayes import GaussianNB\n",
        "from sklearn.neural_network import MLPClassifier\n",
        "from sklearn.svm import SVC\n",
        "from sklearn.neighbors import KNeighborsClassifier\n",
        "from sklearn.linear_model import SGDClassifier\n",
        "```"
      ]
    },
    {
      "cell_type": "code",
      "metadata": {
        "id": "_KAwHzPCRqv_"
      },
      "source": [
        "from sklearn.linear_model import LinearRegression\n",
        "from sklearn.gaussian_process import GaussianProcessClassifier\n",
        "from sklearn.naive_bayes import GaussianNB\n",
        "from sklearn.neural_network import MLPClassifier\n",
        "from sklearn.svm import SVC\n",
        "from sklearn.neighbors import KNeighborsClassifier\n",
        "from sklearn.linear_model import SGDClassifier"
      ],
      "execution_count": null,
      "outputs": []
    },
    {
      "cell_type": "markdown",
      "metadata": {
        "id": "3IZAQAAgALnD"
      },
      "source": [
        "Dla każdego klasyfikatora (skonstruowanego domyślnymi parametrami) zastosuj odpowiednio metody `fit` na danych treningowych i `score` na danych testowych żeby otrzymać jego dokładność. Zaleca się zrobić słownik poszczególnych modeli i uruchomić wszystko w pętli `for`. Co się stanie jak zmienimy podział danych (użyjemy metody split ponownie)?"
      ]
    },
    {
      "cell_type": "code",
      "metadata": {
        "id": "ryQp-qLLS6Cx",
        "colab": {
          "base_uri": "https://localhost:8080/",
          "height": 330
        },
        "outputId": "41bbfd2e-8fb3-4a6a-c25c-65b1cf39e78e"
      },
      "source": [
        "from sklearn.metrics import accuracy_score\n",
        "\n",
        "models = {\n",
        "          \"LinearRegression\" : LinearRegression(),\n",
        "          \"GPC\" : GaussianProcessClassifier(),\n",
        "          \"GaussianNB\" : GaussianNB(),\n",
        "          \"MLPClassifier\" : MLPClassifier(),\n",
        "          \"SVC\" : SVC(),\n",
        "          \"KNN\" : KNeighborsClassifier(),\n",
        "          \"SGD\" : SGDClassifier()\n",
        "         }\n",
        "print('Score data split 0.9:')\n",
        "for name, model in models.items():\n",
        "  model.fit(X_train, y_train)\n",
        "  score = model.score(X_test, y_test)\n",
        "  print(name, score)\n",
        "\n",
        "#change data split\n",
        "\n",
        "X_train, X_test, y_train, y_test = train_test_split(data.data, data.target, test_size=0.8)\n",
        "\n",
        "print(\"\\nScore data split 0.8:\")\n",
        "for name, model in models.items():\n",
        "  model.fit(X_train, y_train)\n",
        "  score = model.score(X_test, y_test)\n",
        "  print(name, score)\n",
        "\n",
        "\n",
        "\"\"\"\n",
        "Po zmiane splitu danych z 0.9 na 0.8 wynik score modeli: LinearRegression, GaussianProcessClassifier , \n",
        "MLPClassifier, SGD poprawiły się bardzo zauważalnie, w pozostałych score nieco zmalalł, jedank rożnica nie\n",
        "jest duża\n",
        "\"\"\"\n",
        " "
      ],
      "execution_count": null,
      "outputs": [
        {
          "output_type": "stream",
          "name": "stdout",
          "text": [
            "Score data split 0.9:\n",
            "LinearRegression 0.4068291305565134\n",
            "GPC 0.8401559454191033\n",
            "GaussianNB 0.9376218323586745\n",
            "MLPClassifier 0.8304093567251462\n",
            "SVC 0.8713450292397661\n",
            "KNN 0.9083820662768031\n",
            "SGD 0.9005847953216374\n",
            "\n",
            "Score data split 0.8:\n",
            "LinearRegression 0.6052361001944166\n",
            "GPC 0.9100877192982456\n",
            "GaussianNB 0.9254385964912281\n",
            "MLPClassifier 0.9035087719298246\n",
            "SVC 0.9035087719298246\n",
            "KNN 0.9100877192982456\n",
            "SGD 0.4473684210526316\n"
          ]
        },
        {
          "output_type": "execute_result",
          "data": {
            "text/plain": [
              "'\\nPo zmiane splitu danych z 0.9 na 0.8 wynik score modeli: LinearRegression, GaussianProcessClassifier , \\nMLPClassifier, SGD poprawiły się bardzo zauważalnie, w pozostałych score nieco zmalalł, jedank rożnica nie\\njest duża\\n'"
            ],
            "application/vnd.google.colaboratory.intrinsic+json": {
              "type": "string"
            }
          },
          "metadata": {},
          "execution_count": 9
        }
      ]
    },
    {
      "cell_type": "markdown",
      "metadata": {
        "id": "oTu04IqeAdde"
      },
      "source": [
        "## Walidacja krzyżowa\n",
        "\n",
        "Przy niewielkim zbiorze danych, ciężko jest wydzielić reprezentatywny zbiór testowy. Jeden ze sposobów jest uruchomić cały proces kilka razy i raportować średnie i odchylenia uzyskanych wyników.\n",
        "\n",
        "Lepszym sposobem jest podzielić cały zbiór danych na `K` paczek i iteracyjnie użyć każdej paczki jako dane testowe, a wszystkie inne (w każdej iteracji) jako dane treningowe.\n",
        "\n",
        "Użyj klasy `StratifiedKFold` z modułu `sklearn.model_selection` żeby podzielić zbiór na 5 części i powtórz poprzedni eksperyment do liczenia dokładności modeli. Jako wynik podaj wartość średnią i odchylenie standardowe dla wsyzstkich podziałów danego modelu."
      ]
    },
    {
      "cell_type": "code",
      "metadata": {
        "id": "X19cYwSUY6yi",
        "colab": {
          "base_uri": "https://localhost:8080/"
        },
        "outputId": "80789d88-8780-402c-bf01-6a94ab33c73c"
      },
      "source": [
        "from sklearn.model_selection import StratifiedKFold\n",
        "from statistics import mean, stdev \n",
        "\n",
        "skf = StratifiedKFold(n_splits=5)\n",
        "\n",
        "x = data.data                    \n",
        "y = data.target\n",
        "\n",
        "models_score = {name:[]  for name in models.keys()}\n",
        "\n",
        "\n",
        "for train_index, test_index in skf.split(X_train, y_train):\n",
        "  x_train_fold, x_test_fold = x[train_index], x[test_index]\n",
        "  y_train_fold, y_test_fold = y[train_index], y[test_index]\n",
        "  \n",
        "  for name, model in models.items():    \n",
        "    model.fit(x_train_fold, y_train_fold)\n",
        "    models_score[name].append(model.score(x_test_fold, y_test_fold))\n",
        "    \n",
        "\n",
        "for name, score in models_score.items():\n",
        "  print(f'\\nOverall Accuracy for model {name}:',\n",
        "          mean(score)*100, '%')\n",
        "  print(f'\\nStandard Deviation is for model {name}:', stdev(score))"
      ],
      "execution_count": null,
      "outputs": [
        {
          "output_type": "stream",
          "name": "stdout",
          "text": [
            "\n",
            "Overall Accuracy for model LinearRegression: 11.884960576016626 %\n",
            "\n",
            "Standard Deviation is for model LinearRegression: 0.39916439955829464\n",
            "\n",
            "Overall Accuracy for model GPC: 85.81027667984189 %\n",
            "\n",
            "Standard Deviation is for model GPC: 0.0958487836627337\n",
            "\n",
            "Overall Accuracy for model GaussianNB: 92.88537549407114 %\n",
            "\n",
            "Standard Deviation is for model GaussianNB: 0.05030799233738285\n",
            "\n",
            "Overall Accuracy for model MLPClassifier: 51.462450592885375 %\n",
            "\n",
            "Standard Deviation is for model MLPClassifier: 0.3702293708786413\n",
            "\n",
            "Overall Accuracy for model SVC: 87.62845849802372 %\n",
            "\n",
            "Standard Deviation is for model SVC: 0.09500154376707326\n",
            "\n",
            "Overall Accuracy for model KNN: 90.31620553359684 %\n",
            "\n",
            "Standard Deviation is for model KNN: 0.07098136362082201\n",
            "\n",
            "Overall Accuracy for model SGD: 75.29644268774703 %\n",
            "\n",
            "Standard Deviation is for model SGD: 0.140065466556363\n"
          ]
        }
      ]
    },
    {
      "cell_type": "markdown",
      "metadata": {
        "id": "Nkd_xpDxBBXV"
      },
      "source": [
        "Naturalnym pytaniem jest jaką wartość wybrać dla parametru `K`. Im więcej paczek użyjemy, tym większa wariancja w wynikach. Dużo paczek oznacza mniejsze ryzyko biasu w eksperymentach, ale testy są robione na mniejszej ilości danych i przez to są bardziej chaotyczne. Mniej paczek oznacza bardziej dokładne wyniki testów, ale jest ryzyko że dane w ustalonych podziałach będa mniej reprezentatywne dla ogółu problemu. W skrajnym przypadku możemy użyć tyle paczek ile jest próbek - ta metoda nazywa się Leave-One-Out.\n",
        "\n",
        "Powtórz te same eksperymenty co poprzednio używając klasy `LeaveOneOut`, ale dla osczędności czasu użyj tylko jednego klasyfikatora (np SVC):"
      ]
    },
    {
      "cell_type": "code",
      "metadata": {
        "id": "2zLUjI_ubI9E",
        "colab": {
          "base_uri": "https://localhost:8080/"
        },
        "outputId": "e63d1fd1-6190-4950-c3c2-83961e1156b9"
      },
      "source": [
        "from sklearn.model_selection import LeaveOneOut\n",
        "\n",
        "loo = LeaveOneOut()\n",
        "loo.get_n_splits(X_train)\n",
        "\n",
        "score_SVC = []\n",
        "for train_index, test_index in loo.split(X_train):\n",
        "  X_train, X_test = x[train_index], x[test_index]\n",
        "  y_train, y_test = y[train_index], y[test_index]\n",
        "\n",
        "  models['SVC'].fit(x_train_fold, y_train_fold)\n",
        "  score_SVC.append(models['SVC'].score(X_test, y_test))\n",
        "  \n",
        "print('\\nOverall Accuracy for model SVC:',\n",
        "        mean(score_SVC)*100, '%')\n",
        "print('\\nStandard Deviation is for SVC:', stdev(score_SVC))"
      ],
      "execution_count": null,
      "outputs": [
        {
          "output_type": "stream",
          "name": "stdout",
          "text": [
            "\n",
            "Overall Accuracy for model SVC: 92.03539823008849 %\n",
            "\n",
            "Standard Deviation is for SVC: 0.2719503933346899\n"
          ]
        }
      ]
    },
    {
      "cell_type": "markdown",
      "metadata": {
        "id": "GG36TOpFBVRl"
      },
      "source": [
        "## Miary jakości modelu\n",
        "\n",
        "Wczytaj następujące metody:\n",
        "```\n",
        "from sklearn.metrics import precision_recall_fscore_support, accuracy_score, confusion_matrix, roc_curve, roc_auc_score, classification_report\n",
        "```\n",
        "\n",
        "Zrób zwykły podział train/test 90/10. Dla wszystkich modeli oprócz regresji liniowej, zastosuj odpowiednio metody `fit` na danych treningowych i `predict` na danych testowych. Potem policz odpowiednio dokładność (`accuracy_score`), precyzję (`precision`), czułóść (`recall`), f-score i macierz konfuzji dla poszczególnych klasyfikatorów. Użyj też metody `classification_report` żeby zobaczyć ogólny raport:"
      ]
    },
    {
      "cell_type": "code",
      "metadata": {
        "id": "12-EfRooc8VY"
      },
      "source": [
        "from sklearn.metrics import precision_recall_fscore_support, accuracy_score, confusion_matrix, roc_curve, roc_auc_score, classification_report\n",
        "\n",
        "\n",
        "X_train, X_test, y_train, y_test = train_test_split(data.data, data.target, test_size=0.9)"
      ],
      "execution_count": null,
      "outputs": []
    },
    {
      "cell_type": "code",
      "source": [
        "for name, model in models.items():\n",
        "  if name  != 'LinearRegression':\n",
        "    model.fit(X_train, y_train)\n",
        "    pred = model.predict(X_test)\n",
        "    print(f'{name}:\\n')\n",
        "    print(confusion_matrix(y_test, pred))\n",
        "    print(classification_report(y_test, pred))\n",
        "    print('--------------------------------------------------------\\n')"
      ],
      "metadata": {
        "colab": {
          "base_uri": "https://localhost:8080/"
        },
        "id": "dm6gTl4HRDnn",
        "outputId": "73fa6ed7-3519-4fdb-a5ba-c70bf5f53973"
      },
      "execution_count": null,
      "outputs": [
        {
          "output_type": "stream",
          "name": "stdout",
          "text": [
            "GPC:\n",
            "\n",
            "[[180  12]\n",
            " [ 47 274]]\n",
            "              precision    recall  f1-score   support\n",
            "\n",
            "           0       0.79      0.94      0.86       192\n",
            "           1       0.96      0.85      0.90       321\n",
            "\n",
            "    accuracy                           0.88       513\n",
            "   macro avg       0.88      0.90      0.88       513\n",
            "weighted avg       0.90      0.88      0.89       513\n",
            "\n",
            "--------------------------------------------------------\n",
            "\n",
            "GaussianNB:\n",
            "\n",
            "[[174  18]\n",
            " [ 12 309]]\n",
            "              precision    recall  f1-score   support\n",
            "\n",
            "           0       0.94      0.91      0.92       192\n",
            "           1       0.94      0.96      0.95       321\n",
            "\n",
            "    accuracy                           0.94       513\n",
            "   macro avg       0.94      0.93      0.94       513\n",
            "weighted avg       0.94      0.94      0.94       513\n",
            "\n",
            "--------------------------------------------------------\n",
            "\n",
            "MLPClassifier:\n",
            "\n",
            "[[191   1]\n",
            " [321   0]]\n",
            "              precision    recall  f1-score   support\n",
            "\n",
            "           0       0.37      0.99      0.54       192\n",
            "           1       0.00      0.00      0.00       321\n",
            "\n",
            "    accuracy                           0.37       513\n",
            "   macro avg       0.19      0.50      0.27       513\n",
            "weighted avg       0.14      0.37      0.20       513\n",
            "\n",
            "--------------------------------------------------------\n",
            "\n",
            "SVC:\n",
            "\n",
            "[[138  54]\n",
            " [  3 318]]\n",
            "              precision    recall  f1-score   support\n",
            "\n",
            "           0       0.98      0.72      0.83       192\n",
            "           1       0.85      0.99      0.92       321\n",
            "\n",
            "    accuracy                           0.89       513\n",
            "   macro avg       0.92      0.85      0.87       513\n",
            "weighted avg       0.90      0.89      0.88       513\n",
            "\n",
            "--------------------------------------------------------\n",
            "\n",
            "KNN:\n",
            "\n",
            "[[153  39]\n",
            " [ 11 310]]\n",
            "              precision    recall  f1-score   support\n",
            "\n",
            "           0       0.93      0.80      0.86       192\n",
            "           1       0.89      0.97      0.93       321\n",
            "\n",
            "    accuracy                           0.90       513\n",
            "   macro avg       0.91      0.88      0.89       513\n",
            "weighted avg       0.90      0.90      0.90       513\n",
            "\n",
            "--------------------------------------------------------\n",
            "\n",
            "SGD:\n",
            "\n",
            "[[ 93  99]\n",
            " [  1 320]]\n",
            "              precision    recall  f1-score   support\n",
            "\n",
            "           0       0.99      0.48      0.65       192\n",
            "           1       0.76      1.00      0.86       321\n",
            "\n",
            "    accuracy                           0.81       513\n",
            "   macro avg       0.88      0.74      0.76       513\n",
            "weighted avg       0.85      0.81      0.78       513\n",
            "\n",
            "--------------------------------------------------------\n",
            "\n"
          ]
        }
      ]
    },
    {
      "cell_type": "markdown",
      "metadata": {
        "id": "6KJRuISZCUpf"
      },
      "source": [
        "## ROC i AUC\n",
        "\n",
        "Użyj wszystkich modeli oprócz regresji liniowej i GPC, a dla SVC dodaj parametr `probability=True`. Użyj walidacji krzyżowej żeby wytrenować każdy z modeli i policzyć `predict_proba` dla całego zbioru. Potem policz `roc_curve` i `auc_score` dla wszystkich modeli i narysuj na wykresie. \n",
        "\n",
        "Najpierw użyj tych poleceń żeby otrzymać pusty wykres ROC:\n",
        "\n",
        "```\n",
        "figure(figsize=(5,5))\n",
        "plot([0,1],[0,1],color='black',lw=2,linestyle='--')\n",
        "xlabel('1 - specificity')\n",
        "ylabel('sensitivity')\n",
        "title('ROC')\n",
        "```\n",
        "\n",
        "Dla każdego klasyfikatora użyj metody `plot` żeby narysować wartości `x=fpr` i `y=tpr` z metody `roc_curve`, a jako `label` ustaw nazwę modelu i jego `AUC`. Na końcu uruchom metodę `legend(loc='lower right')` żeby narysować legendę w dolnym prawym rogu wykresu."
      ]
    },
    {
      "cell_type": "code",
      "metadata": {
        "id": "q4tc6lh_dUmH",
        "colab": {
          "base_uri": "https://localhost:8080/",
          "height": 350
        },
        "outputId": "31254768-0dd2-4280-e2d2-1873895269cd"
      },
      "source": [
        "from sklearn.calibration import CalibratedClassifierCV\n",
        "import matplotlib.pyplot as plt\n",
        "from sklearn import metrics\n",
        "skf = StratifiedKFold(n_splits=5)\n",
        "\n",
        "x = data.data                    \n",
        "y = data.target\n",
        "\n",
        "\n",
        "X_train, X_test, y_train, y_test = train_test_split(data.data, data.target, test_size=0.8)\n",
        "\n",
        "\n",
        "models_new = {  \n",
        "          \"GaussianNB\" : GaussianNB(),\n",
        "          \"MLPClassifier\" : MLPClassifier(),\n",
        "          \"SVC\" : SVC(probability=True),\n",
        "          \"KNN\" : KNeighborsClassifier(),\n",
        "          \"SGD\" : SGDClassifier(loss=\"modified_huber\")   \n",
        "         }\n",
        "models_roc_auc = {name:None  for name in models_new.keys()}\n",
        "\n",
        "for train_index, test_index in skf.split(X_train, y_train):\n",
        "  x_train_fold, x_test_fold = x[train_index], x[test_index]\n",
        "  y_train_fold, y_test_fold = y[train_index], y[test_index]\n",
        "  \n",
        "  for name in models_new.keys():\n",
        "      model = models_new[name]\n",
        "      clf = model.fit(x_train_fold, y_train_fold)     \n",
        "      \n",
        "plt.figure(figsize=(5,5))\n",
        "plt.plot([0,1],[0,1],color='black',lw=2,linestyle='--')\n",
        "plt.xlabel('1 - specificity')\n",
        "plt.ylabel('sensitivity')\n",
        "plt.title('ROC')\n",
        "\n",
        "for name, model in models_roc_auc.items():    \n",
        "  clf = models_new[name]\n",
        "  y_pred = clf.predict(X_test)\n",
        "  y_pred_proba = clf.predict_proba(X_test)[::,1]\n",
        "  fpr, tpr, _ = metrics.roc_curve(y_test,  y_pred_proba)\n",
        "  auc = metrics.roc_auc_score(y_test, y_pred_proba)\n",
        "  plt.plot(fpr,tpr,label=f\"{name}, AUC=\"+str(round(auc, 4)))\n",
        "\n",
        "plt.legend(loc='lower right')\n",
        "plt.show()      "
      ],
      "execution_count": null,
      "outputs": [
        {
          "output_type": "display_data",
          "data": {
            "text/plain": [
              "<Figure size 360x360 with 1 Axes>"
            ],
            "image/png": "[encoded data removed]"
          },
          "metadata": {
            "needs_background": "light"
          }
        }
      ]
    },
    {
      "cell_type": "markdown",
      "metadata": {
        "id": "k23B89bxYaLp"
      },
      "source": [
        "# Zadanie 1. -- Klasyfikacja wieloetykietowa\n",
        "\n",
        "Powtórz powyższe zadania na zbiorze danych win uzyskanego metodą `load_wine` z modułu `sklearn.datasets`. Warto zwrócić uwagę, że ten zbiór definiuje 3 różne klasy.\n",
        "\n",
        "Użyj `sklearn.multiclass.OneVsRestClassifier` żeby zastosować poprzednie klasyfikatory na nowych danych.\n",
        "\n",
        "Przy liczeniu krzywy ROC i wartości AUC użyj `sklearn.preprocessing.label_binarize` na referncji i metody `ravel()` na macierzach wyjściowych przed narysowaniem."
      ]
    },
    {
      "cell_type": "code",
      "metadata": {
        "id": "1nSoMv9QZy2q",
        "colab": {
          "base_uri": "https://localhost:8080/"
        },
        "outputId": "3bd17782-90df-4ac8-9c53-fe33f5ea67ca"
      },
      "source": [
        "from sklearn.datasets import load_wine\n",
        "from sklearn.multiclass import OneVsRestClassifier\n",
        "\n",
        "wine = load_wine()\n",
        "X_train, X_test, y_train, y_test = train_test_split(wine.data, wine.target, test_size=0.9, shuffle=True)\n",
        "\n",
        "models_wine = {\n",
        "          \"LinearRegression\" : LinearRegression(),\n",
        "          \"GPC\" : GaussianProcessClassifier(),\n",
        "          \"GaussianNB\" : GaussianNB(),\n",
        "          \"MLPClassifier\" : MLPClassifier(),\n",
        "          \"SVC\" : SVC(),\n",
        "          \"KNN\" : KNeighborsClassifier(),\n",
        "          \"SGD\" : SGDClassifier()\n",
        "         }\n",
        "\n",
        "print('Score data split 0.9:')\n",
        "for name, model in models_wine.items():\n",
        "  clf = OneVsRestClassifier(model).fit(X_train, y_train)\n",
        "  score = clf.score(X_test, y_test)\n",
        "  print(name, score)\n",
        "\n",
        "#change data split\n",
        "\n",
        "X_train, X_test, y_train, y_test = train_test_split(wine.data, wine.target, test_size=0.8, shuffle=True)\n",
        "\n",
        "print(\"\\nScore data split 0.8:\")\n",
        "for name, model in models_wine.items():\n",
        "  clf = OneVsRestClassifier(model).fit(X_train, y_train)\n",
        "  score = clf.score(X_test, y_test)\n",
        "  print(name, score)"
      ],
      "execution_count": null,
      "outputs": [
        {
          "output_type": "stream",
          "name": "stdout",
          "text": [
            "Score data split 0.9:\n",
            "LinearRegression 0.8881987577639752\n",
            "GPC 0.32298136645962733\n",
            "GaussianNB 0.7329192546583851\n",
            "MLPClassifier 0.8695652173913043\n",
            "SVC 0.6459627329192547\n",
            "KNN 0.6956521739130435\n",
            "SGD 0.4782608695652174\n",
            "\n",
            "Score data split 0.8:\n",
            "LinearRegression 0.958041958041958\n",
            "GPC 0.34965034965034963\n",
            "GaussianNB 0.965034965034965\n",
            "MLPClassifier 0.6993006993006993\n",
            "SVC 0.6993006993006993\n",
            "KNN 0.6783216783216783\n",
            "SGD 0.5454545454545454\n"
          ]
        }
      ]
    },
    {
      "cell_type": "code",
      "source": [
        "from sklearn.model_selection import cross_val_score\n",
        "\n",
        "X = wine.data\n",
        "y = wine.target\n",
        "\n",
        "models_wine = {\n",
        "          \"LinearRegression\" : LinearRegression(),\n",
        "          \"GPC\" : GaussianProcessClassifier(),\n",
        "          \"GaussianNB\" : GaussianNB(),\n",
        "          \"MLPClassifier\" : MLPClassifier(),\n",
        "          \"SVC\" : SVC(),\n",
        "          \"KNN\" : KNeighborsClassifier(),\n",
        "          \"SGD\" : SGDClassifier()\n",
        "         }\n",
        "\n",
        "for name, model in models_wine.items():\n",
        "  print(name)\n",
        "  mean_score = cross_val_score(OneVsRestClassifier(model), X, y, scoring=\"accuracy\", cv = 5).mean()\n",
        "  std_score = cross_val_score(OneVsRestClassifier(model), X, y, scoring=\"accuracy\", cv = 5).std()\n",
        "  print(f'Mean: {mean_score}')\n",
        "  print(f'Std: {std_score}')\n",
        "  print('-----------------------')"
      ],
      "metadata": {
        "colab": {
          "base_uri": "https://localhost:8080/"
        },
        "id": "d9eboamtH5mh",
        "outputId": "3b817acf-d77b-4a16-a5a3-7e8acc94295a"
      },
      "execution_count": null,
      "outputs": [
        {
          "output_type": "stream",
          "name": "stdout",
          "text": [
            "LinearRegression\n",
            "Mean: 0.9774603174603176\n",
            "Std: 0.011275428974716221\n",
            "-----------------------\n",
            "GPC\n",
            "Mean: 0.4550793650793651\n",
            "Std: 0.03660993343344825\n",
            "-----------------------\n",
            "GaussianNB\n",
            "Mean: 0.9607936507936508\n",
            "Std: 0.013352216409405144\n",
            "-----------------------\n",
            "MLPClassifier\n",
            "Mean: 0.6592063492063491\n",
            "Std: 0.22112575299918322\n",
            "-----------------------\n",
            "SVC\n",
            "Mean: 0.6857142857142857\n",
            "Std: 0.034342252031984905\n",
            "-----------------------\n",
            "KNN\n",
            "Mean: 0.6915873015873016\n",
            "Std: 0.06630210221307858\n",
            "-----------------------\n",
            "SGD\n",
            "Mean: 0.5787301587301587\n",
            "Std: 0.08921482194412848\n",
            "-----------------------\n"
          ]
        }
      ]
    },
    {
      "cell_type": "code",
      "source": [
        "loo = LeaveOneOut()\n",
        "loo.get_n_splits(X_train)\n",
        "\n",
        "score_SVC = []\n",
        "for train_index, test_index in loo.split(X_train):\n",
        "  X_train, X_test = x[train_index], x[test_index]\n",
        "  y_train, y_test = y[train_index], y[test_index]\n",
        " \n",
        "  svc = OneVsRestClassifier(models_wine['SVC']).fit(x_train_fold, y_train_fold)\n",
        "  score_SVC.append(svc.score(X_test, y_test))\n",
        "  \n",
        "print('\\nOverall Accuracy for model SVC:',\n",
        "        mean(score_SVC)*100, '%')\n",
        "print('\\nStandard Deviation is for SVC:', stdev(score_SVC))"
      ],
      "metadata": {
        "colab": {
          "base_uri": "https://localhost:8080/"
        },
        "id": "VQZHFYk1JIPG",
        "outputId": "3d4e883e-6853-4034-af42-d83e74bcf019"
      },
      "execution_count": null,
      "outputs": [
        {
          "output_type": "stream",
          "name": "stdout",
          "text": [
            "\n",
            "Overall Accuracy for model SVC: 88.57142857142857 %\n",
            "\n",
            "Standard Deviation is for SVC: 0.32280285109067564\n"
          ]
        }
      ]
    },
    {
      "cell_type": "code",
      "source": [
        "X_train, X_test, y_train, y_test = train_test_split(wine.data, wine.target, test_size=0.8)"
      ],
      "metadata": {
        "id": "aGzcHJKEKOzz"
      },
      "execution_count": null,
      "outputs": []
    },
    {
      "cell_type": "code",
      "source": [
        "for name, model in models_wine.items():\n",
        "  if name  != 'LinearRegression':\n",
        "    clf = OneVsRestClassifier(model).fit(X_train, y_train)\n",
        "    pred = clf.predict(X_test)\n",
        "    print(f'{name}:\\n')\n",
        "    print(confusion_matrix(y_test, pred))\n",
        "    print(classification_report(y_test, pred))\n",
        "    print('--------------------------------------------------------\\n')"
      ],
      "metadata": {
        "colab": {
          "base_uri": "https://localhost:8080/"
        },
        "id": "93VI1VBoKRvU",
        "outputId": "7aa6cd51-d562-42f4-b2e2-32c418616e95"
      },
      "execution_count": null,
      "outputs": [
        {
          "output_type": "stream",
          "name": "stdout",
          "text": [
            "GPC:\n",
            "\n",
            "[[ 4  0 43]\n",
            " [ 2  7 51]\n",
            " [ 2  1 33]]\n",
            "              precision    recall  f1-score   support\n",
            "\n",
            "           0       0.50      0.09      0.15        47\n",
            "           1       0.88      0.12      0.21        60\n",
            "           2       0.26      0.92      0.40        36\n",
            "\n",
            "    accuracy                           0.31       143\n",
            "   macro avg       0.54      0.37      0.25       143\n",
            "weighted avg       0.60      0.31      0.24       143\n",
            "\n",
            "--------------------------------------------------------\n",
            "\n",
            "GaussianNB:\n",
            "\n",
            "[[46  1  0]\n",
            " [ 4 55  1]\n",
            " [ 0  1 35]]\n",
            "              precision    recall  f1-score   support\n",
            "\n",
            "           0       0.92      0.98      0.95        47\n",
            "           1       0.96      0.92      0.94        60\n",
            "           2       0.97      0.97      0.97        36\n",
            "\n",
            "    accuracy                           0.95       143\n",
            "   macro avg       0.95      0.96      0.95       143\n",
            "weighted avg       0.95      0.95      0.95       143\n",
            "\n",
            "--------------------------------------------------------\n",
            "\n",
            "MLPClassifier:\n",
            "\n",
            "[[ 0 47  0]\n",
            " [ 0 60  0]\n",
            " [ 0 36  0]]\n",
            "              precision    recall  f1-score   support\n",
            "\n",
            "           0       0.00      0.00      0.00        47\n",
            "           1       0.42      1.00      0.59        60\n",
            "           2       0.00      0.00      0.00        36\n",
            "\n",
            "    accuracy                           0.42       143\n",
            "   macro avg       0.14      0.33      0.20       143\n",
            "weighted avg       0.18      0.42      0.25       143\n",
            "\n",
            "--------------------------------------------------------\n",
            "\n",
            "SVC:\n",
            "\n",
            "[[47  0  0]\n",
            " [ 5 53  2]\n",
            " [ 8 27  1]]\n",
            "              precision    recall  f1-score   support\n",
            "\n",
            "           0       0.78      1.00      0.88        47\n",
            "           1       0.66      0.88      0.76        60\n",
            "           2       0.33      0.03      0.05        36\n",
            "\n",
            "    accuracy                           0.71       143\n",
            "   macro avg       0.59      0.64      0.56       143\n",
            "weighted avg       0.62      0.71      0.62       143\n",
            "\n",
            "--------------------------------------------------------\n",
            "\n",
            "KNN:\n",
            "\n",
            "[[39  0  8]\n",
            " [ 2 33 25]\n",
            " [ 0  5 31]]\n",
            "              precision    recall  f1-score   support\n",
            "\n",
            "           0       0.95      0.83      0.89        47\n",
            "           1       0.87      0.55      0.67        60\n",
            "           2       0.48      0.86      0.62        36\n",
            "\n",
            "    accuracy                           0.72       143\n",
            "   macro avg       0.77      0.75      0.73       143\n",
            "weighted avg       0.80      0.72      0.73       143\n",
            "\n",
            "--------------------------------------------------------\n",
            "\n",
            "SGD:\n",
            "\n",
            "[[27  0 20]\n",
            " [ 0  6 54]\n",
            " [ 0  0 36]]\n",
            "              precision    recall  f1-score   support\n",
            "\n",
            "           0       1.00      0.57      0.73        47\n",
            "           1       1.00      0.10      0.18        60\n",
            "           2       0.33      1.00      0.49        36\n",
            "\n",
            "    accuracy                           0.48       143\n",
            "   macro avg       0.78      0.56      0.47       143\n",
            "weighted avg       0.83      0.48      0.44       143\n",
            "\n",
            "--------------------------------------------------------\n",
            "\n"
          ]
        }
      ]
    },
    {
      "cell_type": "code",
      "source": [
        "from  itertools import cycle\n",
        "from sklearn import datasets\n",
        "from sklearn.preprocessing import label_binarize\n",
        "from sklearn.metrics import roc_curve, auc\n",
        "from sklearn.multiclass import OneVsRestClassifier\n",
        "from sklearn.calibration import CalibratedClassifierCV\n",
        "from sklearn.model_selection import cross_val_predict\n",
        "\n",
        "Wine = datasets.load_wine()\n",
        "X = Wine.data\n",
        "y = Wine.target\n",
        "\n",
        "models_wine = {  \n",
        "          \"GaussianNB\" : GaussianNB(),\n",
        "          \"MLPClassifier\" : MLPClassifier(),\n",
        "          \"SVC\" : SVC(probability=True),\n",
        "          \"KNN\" : KNeighborsClassifier()\n",
        "         }\n",
        "\n",
        "# Binarize the output\n",
        "y_bin = label_binarize(y, classes=[0, 1, 2])\n",
        "n_classes = y_bin.shape[1]\n",
        "\n",
        "for name, model in models_wine.items():\n",
        "  clf = OneVsRestClassifier(model)\n",
        "\n",
        "  y_score = cross_val_predict(clf, X, y, cv=10 ,method='predict_proba')\n",
        "\n",
        "  plt.figure(figsize=(5,5))\n",
        "  plt.plot([0,1],[0,1],color='black',lw=2,linestyle='--')\n",
        "  plt.xlabel('1 - specificity')\n",
        "  plt.ylabel('sensitivity')\n",
        "  plt.title(f'ROC ({name})')\n",
        "\n",
        "  fpr = dict()\n",
        "  tpr = dict()\n",
        "  roc_auc = dict()\n",
        "\n",
        "  for i in range(n_classes):    \n",
        "    fpr[i], tpr[i], _ = roc_curve(y_bin[:, i], y_score[:, i])\n",
        "    roc_auc[i] = auc(fpr[i], tpr[i])\n",
        "  colors = cycle(['blue', 'red', 'green'])\n",
        "  for i, color in zip(range(n_classes), colors):\n",
        "      plt.plot(fpr[i], tpr[i], color=color, \n",
        "              label='ROC curve of class {0} (area = {1:0.2f})'\n",
        "              ''.format(i, roc_auc[i]))\n",
        "  plt.legend(loc='lower right')\n",
        "  plt.show()"
      ],
      "metadata": {
        "colab": {
          "base_uri": "https://localhost:8080/",
          "height": 1000
        },
        "id": "AkDoKzhYK4Mt",
        "outputId": "f61f414a-c42a-4b83-a96a-d8288589cf85"
      },
      "execution_count": null,
      "outputs": [
        {
          "output_type": "display_data",
          "data": {
            "text/plain": [
              "<Figure size 360x360 with 1 Axes>"
            ],
            "image/png": "[encoded data removed]"
          },
          "metadata": {
            "needs_background": "light"
          }
        },
        {
          "output_type": "display_data",
          "data": {
            "text/plain": [
              "<Figure size 360x360 with 1 Axes>"
            ],
            "image/png": "[encoded data removed]"
          },
          "metadata": {
            "needs_background": "light"
          }
        },
        {
          "output_type": "display_data",
          "data": {
            "text/plain": [
              "<Figure size 360x360 with 1 Axes>"
            ],
            "image/png": "[encoded data removed]"
          },
          "metadata": {
            "needs_background": "light"
          }
        },
        {
          "output_type": "display_data",
          "data": {
            "text/plain": [
              "<Figure size 360x360 with 1 Axes>"
            ],
            "image/png": "[encoded data removed]"
          },
          "metadata": {
            "needs_background": "light"
          }
        }
      ]
    },
    {
      "cell_type": "markdown",
      "source": [
        "# Zadanie 2. -- Optymalizacja hiperparametru\n",
        "\n",
        "Użyj podwójnej walidacji krzyżowej żeby znaleźć średnią skuteczność klasyfikatora SVC (na danych `load_breast_cancer`) dla optymalnego parametru `C`.\n",
        "\n",
        "Należy użyć podwójnej metody K-Fold: najpierw dzielimy zbiór na train/test, a potem w każdej iteracji zbiór train dodatowko dzielimy na train/dev kolejną pętlą walidacji krzyżowej. Za pomocą podziału train/dev szukamy jaki parametr `C` daje najlepszy wynik (załóżmy że przetestujemy ~10 różnych wartości równomiernie rozłożonych od 0.2 do 2 ), a potem użyjemy tą optymalną wartość żeby dokonać eksperymentu na zbiorze test."
      ],
      "metadata": {
        "id": "GCpAekshhd7S"
      }
    },
    {
      "cell_type": "code",
      "source": [
        "from sklearn.model_selection import RepeatedKFold\n",
        "\n",
        "X_train, X_test, y_train, y_test = train_test_split(data.data, data.target, test_size=0.8)\n",
        "\n",
        "range_C = [val/10 for val in range(2, 21)]\n",
        "\n",
        "score = {}\n",
        "for val in range_C:\n",
        "  cv = RepeatedKFold(n_splits=10, n_repeats=2)\n",
        "  # create model\n",
        "  model = SVC(C=val)\n",
        "  # evaluate model\n",
        "  scores = cross_val_score(model, X_train, y_train, scoring='accuracy', cv=cv, n_jobs=-1)\n",
        "  # calculate performance\n",
        "  score[val] = mean(scores)\n",
        "\n",
        "best_C = max(score, key=score.get)\n",
        "print(f'Best C param for SVC model: {best_C}')\n",
        "model = SVC(C=best_C)\n",
        "model.fit(X_train, y_train)\n",
        "pred = model.predict(X_test)\n",
        "\n",
        "print(confusion_matrix(y_test, pred))\n",
        "print(classification_report(y_test, pred))"
      ],
      "metadata": {
        "id": "IAXdcebjhcBw",
        "colab": {
          "base_uri": "https://localhost:8080/"
        },
        "outputId": "f1f000cc-2ef4-47fb-c050-bae85fff0cee"
      },
      "execution_count": null,
      "outputs": [
        {
          "output_type": "stream",
          "name": "stdout",
          "text": [
            "Best C param for SVC model: 2.0\n",
            "[[128  41]\n",
            " [  3 284]]\n",
            "              precision    recall  f1-score   support\n",
            "\n",
            "           0       0.98      0.76      0.85       169\n",
            "           1       0.87      0.99      0.93       287\n",
            "\n",
            "    accuracy                           0.90       456\n",
            "   macro avg       0.93      0.87      0.89       456\n",
            "weighted avg       0.91      0.90      0.90       456\n",
            "\n"
          ]
        }
      ]
    }
  ]
}