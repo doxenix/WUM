{
  "nbformat": 4,
  "nbformat_minor": 0,
  "metadata": {
    "colab": {
      "name": "s24216_WUM_img_hw_2022_q2.ipynb",
      "provenance": [],
      "collapsed_sections": [],
      "include_colab_link": true
    },
    "kernelspec": {
      "name": "python3",
      "display_name": "Python 3"
    },
    "accelerator": "GPU"
  },
  "cells": [
    {
      "cell_type": "markdown",
      "metadata": {
        "id": "view-in-github",
        "colab_type": "text"
      },
      "source": [
        "<a href=\"https://colab.research.google.com/github/doxenix/WUM/blob/main/s24216_WUM_img_hw_2022_q2.ipynb\" target=\"_parent\"><img src=\"https://colab.research.google.com/assets/colab-badge.svg\" alt=\"Open In Colab\"/></a>"
      ]
    },
    {
      "cell_type": "markdown",
      "metadata": {
        "id": "IImW6xGnwobW"
      },
      "source": [
        "# Praca domowa - obraz\n"
      ]
    },
    {
      "cell_type": "markdown",
      "metadata": {
        "id": "Eh7IOzAiR_00"
      },
      "source": [
        "Najpierw upewnijmy się, że pracujemy na GPU. \n",
        "\n",
        "* Włącz GPU (Runtime / Change runtime type)"
      ]
    },
    {
      "cell_type": "markdown",
      "metadata": {
        "id": "3qW-R-Zn3y5b"
      },
      "source": [
        "## MNIST\n",
        "\n"
      ]
    },
    {
      "cell_type": "markdown",
      "source": [
        "### Wczytanie i wizualizacja"
      ],
      "metadata": {
        "id": "725Tr9dOfTmr"
      }
    },
    {
      "cell_type": "markdown",
      "source": [
        "* Wczytaj dane mnist do zmiennych X_train, y_train, X_test, y_test.\n",
        "https://keras.io/datasets/"
      ],
      "metadata": {
        "id": "GlcBIlyQfPIM"
      }
    },
    {
      "cell_type": "code",
      "metadata": {
        "id": "j9NGgReMXoyK"
      },
      "source": [
        "from keras.datasets import mnist\n",
        "import numpy as np\n",
        "\n",
        "(X_train, y_train), (X_test, y_test) = mnist.load_data()"
      ],
      "execution_count": null,
      "outputs": []
    },
    {
      "cell_type": "markdown",
      "source": [
        "Teraz sprawdź i napisz:\n",
        "* ile mamy instancji treningowych:\n",
        "* ile mamy instancji testowych:\n",
        "* jakie są wymiary w pixelach jednego obrazka:\n",
        "* ile kanałów ma jeden obrazek:\n",
        "* ile bajtów zajmuje jeden piksel:\n",
        "* jaka jest minimalna i maksymalna wartość piksela:\n",
        "\n"
      ],
      "metadata": {
        "id": "Qtam0UK3HM4t"
      }
    },
    {
      "cell_type": "code",
      "source": [
        "print(f'Liczba instancji treningowych: {X_train.shape[0]}')\n",
        "print(f'Liczba instancji testowych: {X_test.shape[0]}')\n",
        "print(f'Wymiary w pixelach jednego obrazka: {X_train[0].shape}')\n",
        "print(f'L. kanalow 1 obrazka: {len(X_train[0].shape)}')\n",
        "print(f'Ile bajtów zajmuje jeden piksel: {type(X_train[0][0][0])}')\n",
        "print(f'Maks wartość pixela: {X_train[0].max()}. Min wartosc piksela: {X_train[0].min()}')"
      ],
      "metadata": {
        "id": "H6HW57bUKHEu",
        "colab": {
          "base_uri": "https://localhost:8080/"
        },
        "outputId": "1df8031e-3773-40a5-cfa1-760d126f00ee"
      },
      "execution_count": null,
      "outputs": [
        {
          "output_type": "stream",
          "name": "stdout",
          "text": [
            "Liczba instancji treningowych: 60000\n",
            "Liczba instancji testowych: 10000\n",
            "Wymiary w pixelach jednego obrazka: (28, 28)\n",
            "L. kanalow 1 obrazka: 2\n",
            "Ile bajtów zajmuje jeden piksel: <class 'numpy.uint8'>\n",
            "Maks wartość pixela: 255. Min wartosc piksela: 0\n"
          ]
        }
      ]
    },
    {
      "cell_type": "markdown",
      "metadata": {
        "id": "yZpZmpJpbr87"
      },
      "source": [
        "Świetnie, teraz: \n",
        "* Wyrysuj pierwsze 12 elementów zbioru treningowego.\n",
        "* Wypisz lub narysuj etykiety tych 12 elementów. \n",
        "\n",
        "[Tutaj są różne color mapy.](  \n",
        "https://matplotlib.org/examples/color/colormaps_reference.html), których możesz użyć w funkcji imshow.  "
      ]
    },
    {
      "cell_type": "code",
      "metadata": {
        "id": "nIh_CbLNcRLZ",
        "colab": {
          "base_uri": "https://localhost:8080/",
          "height": 297
        },
        "outputId": "a0912249-3063-4817-d755-9952ae2f5d62"
      },
      "source": [
        "import matplotlib.pyplot as plt\n",
        "\n",
        "for i in range(1, 7):\n",
        "  plt.subplot(3, 2, i)   \n",
        "  plt.imshow(X_train[i])\n",
        "  plt.title(y_train[i])\n",
        "plt.tight_layout()  \n",
        "plt.show()"
      ],
      "execution_count": null,
      "outputs": [
        {
          "output_type": "display_data",
          "data": {
            "text/plain": [
              "<Figure size 432x288 with 6 Axes>"
            ],
            "image/png": "[encoded data removed]"
          },
          "metadata": {
            "needs_background": "light"
          }
        }
      ]
    },
    {
      "cell_type": "markdown",
      "source": [
        "* Teraz narysuj swój numer studenta używając cyfr zbioru mnist. Jeśli Twój indeks to np. s12345, wyrysuj 5 obrazków z cyframi '1', '2', '3', '4' i '5' obok siebie. "
      ],
      "metadata": {
        "id": "Uu-4YcjdLt5g"
      }
    },
    {
      "cell_type": "code",
      "source": [
        "index_nums = [2, 4, 2, 1, 6]\n",
        "\n",
        "for i, num in enumerate(index_nums):\n",
        "  plt.subplot(1, 5, i+1)\n",
        "  array_index = np.where(y_train==num)[0][0]   \n",
        "  plt.imshow(X_train[array_index])  \n",
        "plt.tight_layout()  \n",
        "plt.show()"
      ],
      "metadata": {
        "id": "nirtYlFgMgEY",
        "colab": {
          "base_uri": "https://localhost:8080/",
          "height": 104
        },
        "outputId": "956cf214-a68a-48c2-b375-d20ca2b30920"
      },
      "execution_count": null,
      "outputs": [
        {
          "output_type": "display_data",
          "data": {
            "text/plain": [
              "<Figure size 432x288 with 5 Axes>"
            ],
            "image/png": "[encoded data removed]"
          },
          "metadata": {
            "needs_background": "light"
          }
        }
      ]
    },
    {
      "cell_type": "markdown",
      "metadata": {
        "id": "0lOBeLJYcAGN"
      },
      "source": [
        "### Klasyfikacja CNN'em"
      ]
    },
    {
      "cell_type": "markdown",
      "metadata": {
        "id": "nlW4Jyg_A85O"
      },
      "source": [
        "####Przygotowanie danych"
      ]
    },
    {
      "cell_type": "markdown",
      "metadata": {
        "id": "s6hmMA0Tobxz"
      },
      "source": [
        "Przygotujmy nasze dane treningowe:\n",
        "* Przerób X_train i X_test tak, żeby wartości wszystkich pixeli były zawarte w przedziale <0,1>\n",
        "* Zmień typ naszych pixeli na 'float32'\n",
        "\n",
        "*Może się przydać metoda astype.*"
      ]
    },
    {
      "cell_type": "code",
      "metadata": {
        "id": "sVwm01xOoOBo"
      },
      "source": [
        "from sklearn.preprocessing import MinMaxScaler\n",
        "\n",
        "X_train = X_train.astype('float32')\n",
        "X_test = X_test.astype('float32')\n",
        "\n",
        "scaler = MinMaxScaler()\n",
        "# # transform data\n",
        "X_train = scaler.fit_transform(X_train.reshape(X_train.shape[0],-1))\n",
        "X_test = scaler.fit_transform(X_test.reshape(X_test.shape[0],-1))\n",
        "\n",
        "X_train = X_train.reshape(X_train.shape[0],28,28)\n",
        "X_test = X_test.reshape(X_test.shape[0],28,28)"
      ],
      "execution_count": null,
      "outputs": []
    },
    {
      "cell_type": "markdown",
      "metadata": {
        "id": "HQJvnE8NeDgT"
      },
      "source": [
        "Przygotowaliśmy dane treningowe, teraz jeszcze etykiety.  W tej chwili jest to wektor liczb - dla każdej instancji mamy jedną liczbę. Nasza sieć będzie miała na wyjściu 10 wartości (wynik dla każdej klasy), więc musimy przerobić nasze liczby do postaci one-hot. Jeśli klasy trzech instancji to np. [0, 3, 5], w postaci one-hot będziemy mieć na przykład coś takiego:  \n",
        "[1000000000]  \n",
        "[0001000000]  \n",
        "[0000010000]\n",
        "\n",
        "Możesz do tego użyć funkcji [to_categorical](https://keras.io/api/utils/python_utils/).\n",
        "\n",
        "* Przekonwertuj etykiety do postaci one-hot i wpisz wyniki do zmiennych Y_train i Y_test. \n",
        "* Wypisz 10 pierwszych elementów Y_train oraz y_train. \n",
        "* Napisz, jak w nowej postaci będą zapisane etykiety cyfr: 1, 2 i 4. \n",
        "* Wypisz kolejne cyfry swojego numeru indeksu używając powyższego zapisu. "
      ]
    },
    {
      "cell_type": "code",
      "metadata": {
        "id": "xQUGyHL2cLBp",
        "colab": {
          "base_uri": "https://localhost:8080/"
        },
        "outputId": "7bcc7f70-0082-4c39-9d9f-364ea46d7216"
      },
      "source": [
        "from keras.utils.np_utils import to_categorical \n",
        "\n",
        "Y_train = to_categorical(y_train)\n",
        "Y_test = to_categorical(y_test)\n",
        "\n",
        "print(Y_train[:10])\n",
        "print(y_train[:10])\n",
        "print('\\n')\n",
        "nums = [1,2,4]\n",
        "\n",
        "for i, num in enumerate(nums):\n",
        "  \n",
        "  array_index = np.where(y_train==num)[0][0] \n",
        "  print(f'Liczba {num}:')\n",
        "  print(Y_train[array_index])\n",
        "\n",
        "print('\\n')\n",
        "print('Moj indeks s:')\n",
        "for i, num in enumerate(index_nums):\n",
        "  \n",
        "  array_index = np.where(y_train==num)[0][0] \n",
        "  print(f'Liczba {num}:')\n",
        "  print(Y_train[array_index])"
      ],
      "execution_count": null,
      "outputs": [
        {
          "output_type": "stream",
          "name": "stdout",
          "text": [
            "[[0. 0. 0. 0. 0. 1. 0. 0. 0. 0.]\n",
            " [1. 0. 0. 0. 0. 0. 0. 0. 0. 0.]\n",
            " [0. 0. 0. 0. 1. 0. 0. 0. 0. 0.]\n",
            " [0. 1. 0. 0. 0. 0. 0. 0. 0. 0.]\n",
            " [0. 0. 0. 0. 0. 0. 0. 0. 0. 1.]\n",
            " [0. 0. 1. 0. 0. 0. 0. 0. 0. 0.]\n",
            " [0. 1. 0. 0. 0. 0. 0. 0. 0. 0.]\n",
            " [0. 0. 0. 1. 0. 0. 0. 0. 0. 0.]\n",
            " [0. 1. 0. 0. 0. 0. 0. 0. 0. 0.]\n",
            " [0. 0. 0. 0. 1. 0. 0. 0. 0. 0.]]\n",
            "[5 0 4 1 9 2 1 3 1 4]\n",
            "\n",
            "\n",
            "Liczba 1:\n",
            "[0. 1. 0. 0. 0. 0. 0. 0. 0. 0.]\n",
            "Liczba 2:\n",
            "[0. 0. 1. 0. 0. 0. 0. 0. 0. 0.]\n",
            "Liczba 4:\n",
            "[0. 0. 0. 0. 1. 0. 0. 0. 0. 0.]\n",
            "\n",
            "\n",
            "Moj indeks s:\n",
            "Liczba 2:\n",
            "[0. 0. 1. 0. 0. 0. 0. 0. 0. 0.]\n",
            "Liczba 4:\n",
            "[0. 0. 0. 0. 1. 0. 0. 0. 0. 0.]\n",
            "Liczba 2:\n",
            "[0. 0. 1. 0. 0. 0. 0. 0. 0. 0.]\n",
            "Liczba 1:\n",
            "[0. 1. 0. 0. 0. 0. 0. 0. 0. 0.]\n",
            "Liczba 6:\n",
            "[0. 0. 0. 0. 0. 0. 1. 0. 0. 0.]\n"
          ]
        }
      ]
    },
    {
      "cell_type": "markdown",
      "metadata": {
        "id": "x4s1Inr0BTaY"
      },
      "source": [
        "Pierwsze warstwy naszej sieci będą typu Conv2D. Przyjmują one dane instancji w postaci wielowymiarowych tablic. Nie spłaszczamy zatem danych do postaci wektora - jak musielibyśmy zrobić w przypatku SVM lub MLP. Zrobi to dopiero potem warstwa Flatten naszej sieci.  \n",
        "\n",
        "Przekazujemy sieci instancje w postaci szerokość x wysokość x liczba_kanałów (format 'channels_last', w przypdku formatu 'channels_first' tablica miałaby wymiary liczba_kanałów x szerokość x wysokość).\n",
        "\n",
        "* upewnij się, że działamy w trybie channels_last (keras.backend.image_data_format())\n",
        "* sprawdź jeszcze raz shape danych treningowych i testowych\n",
        "* jeśli brakuje nam ostatniego wymiaru, dodajmy go\n",
        "\n",
        "*np.expand_dims(X_train, -1) powinien nam dodać brakujący wymiar na końcu; opcjonalnie można użyć kodu z ćwiczeń*\n",
        "\n",
        " "
      ]
    },
    {
      "cell_type": "code",
      "source": [
        "import tensorflow as tf\n",
        "\n",
        "from keras import backend as K\n",
        "\n",
        "X_train = X_train.reshape(X_train.shape[0], 28, 28, 1)\n",
        "X_test = X_test.reshape(X_test.shape[0], 28, 28, 1)\n",
        "input_shape = (28, 28, 1)"
      ],
      "metadata": {
        "id": "YKvRxllrQIFx"
      },
      "execution_count": null,
      "outputs": []
    },
    {
      "cell_type": "markdown",
      "metadata": {
        "id": "C_wFFlj0gNpP"
      },
      "source": [
        "#### Przygotowanie sieci\n",
        "\n",
        "Prawdopodobnie przydadzą nam się poniższe importy. \n",
        "```python\n",
        "from keras.models import Sequential\n",
        "from keras.layers import Dense, Flatten\n",
        "from keras.layers.convolutional import Conv2D, MaxPooling2D\n",
        "```"
      ]
    },
    {
      "cell_type": "code",
      "source": [
        "from keras.models import Sequential\n",
        "from keras.layers import Dense, Flatten\n",
        "from keras.layers.convolutional import Conv2D, MaxPooling2D"
      ],
      "metadata": {
        "id": "JLL64i0Ditf3"
      },
      "execution_count": null,
      "outputs": []
    },
    {
      "cell_type": "markdown",
      "source": [
        "* Zbuduj sieć z takimi warstwami:\n",
        " * Na wejściu [Conv2D](https://keras.io/api/layers/convolution_layers/convolution2d/): 16 filtrów, kernel 3x3, padding 'same', activation [relu](https://cs-cheatsheet.readthedocs.io/en/latest/_images/activation_functions.png)\n",
        " * [MaxPooling2D](https://keras.io/api/layers/pooling_layers/max_pooling2d/): pool_size 2x2\n",
        " * Conv2D: 32 filtry, kernel 3x3, padding 'same', activation relu\n",
        " * MaxPooling2D: pool_size 2x2\n",
        " * [Flatten](https://keras.io/api/layers/reshaping_layers/flatten/) (spłaszczamy dane do 1-wymiarowego wektora)\n",
        " * Na wyjściu [Dense](https://keras.io/api/layers/core_layers/dense/), units tyle, co klas, [aktywacja softmax](https://qph.fs.quoracdn.net/main-qimg-fda2f008df90ed5d7b6aff89b881e1ac)\n",
        "\n",
        "Pierwsza warstwa będzie oczekiwać podania kształtu danych (input_shape). Czyli szerokość x wysokość x liczba kanałów. "
      ],
      "metadata": {
        "id": "b2rmxjLDVvoZ"
      }
    },
    {
      "cell_type": "code",
      "source": [
        "model = Sequential([\n",
        "  Conv2D(16, kernel_size=(3,3), padding='same',activation='relu', input_shape = (28, 28, 1)),\n",
        "  MaxPooling2D(pool_size=(2,2)),\n",
        "  Conv2D(32, kernel_size=(3,3), padding='same',activation='relu'),\n",
        "  MaxPooling2D(pool_size=(2,2)),\n",
        "  Flatten(),  \n",
        "  Dense(10, activation='softmax')\n",
        "])"
      ],
      "metadata": {
        "id": "dbQRBxQRVu1e"
      },
      "execution_count": null,
      "outputs": []
    },
    {
      "cell_type": "code",
      "source": [
        "model.summary()"
      ],
      "metadata": {
        "colab": {
          "base_uri": "https://localhost:8080/"
        },
        "id": "mW8ZyYw5b7Pe",
        "outputId": "ffe85a98-de84-4e5f-f0c3-17521633df37"
      },
      "execution_count": null,
      "outputs": [
        {
          "output_type": "stream",
          "name": "stdout",
          "text": [
            "Model: \"sequential\"\n",
            "_________________________________________________________________\n",
            " Layer (type)                Output Shape              Param #   \n",
            "=================================================================\n",
            " conv2d (Conv2D)             (None, 28, 28, 16)        160       \n",
            "                                                                 \n",
            " max_pooling2d (MaxPooling2D  (None, 14, 14, 16)       0         \n",
            " )                                                               \n",
            "                                                                 \n",
            " conv2d_1 (Conv2D)           (None, 14, 14, 32)        4640      \n",
            "                                                                 \n",
            " max_pooling2d_1 (MaxPooling  (None, 7, 7, 32)         0         \n",
            " 2D)                                                             \n",
            "                                                                 \n",
            " flatten (Flatten)           (None, 1568)              0         \n",
            "                                                                 \n",
            " dense (Dense)               (None, 10)                15690     \n",
            "                                                                 \n",
            "=================================================================\n",
            "Total params: 20,490\n",
            "Trainable params: 20,490\n",
            "Non-trainable params: 0\n",
            "_________________________________________________________________\n"
          ]
        }
      ]
    },
    {
      "cell_type": "markdown",
      "source": [
        "* Sprawdź, jak wygląda Twoja sieć  \n",
        "Przyda się metoda model.summary i ewentualnie funkcja keras.utils.vis_utils.plot_model"
      ],
      "metadata": {
        "id": "Wgy6vzB_smoT"
      }
    },
    {
      "cell_type": "code",
      "source": [
        "tf.keras.utils.plot_model(model)"
      ],
      "metadata": {
        "id": "YMar0OmRtHfk",
        "colab": {
          "base_uri": "https://localhost:8080/",
          "height": 661
        },
        "outputId": "571ab9e9-cee8-415c-c6b6-73fc56516638"
      },
      "execution_count": null,
      "outputs": [
        {
          "output_type": "execute_result",
          "data": {
            "text/plain": [
              "<IPython.core.display.Image object>"
            ],
            "image/png": "[encoded data removed]"
          },
          "metadata": {},
          "execution_count": 11
        }
      ]
    },
    {
      "cell_type": "markdown",
      "source": [
        "* Spróbuj usunąć argument padding i napisz, co się zmieniło. \n",
        "* Przywróć padding. "
      ],
      "metadata": {
        "id": "R8jgVpESuO2U"
      }
    },
    {
      "cell_type": "code",
      "source": [
        "'''\n",
        "Po usunieciu arg padding, zmienia sie wymiar daneych wchodzacych do warstw sieci. \n",
        "W przypadku pierwszych 3 warstw, szerkosc i wysokosc zmiejsza sie o 2, 1 i 3 jednostki.\n",
        "Skutkiem tego jest dosc duze zmijeszenie wymiaru danych dla Warstwy Flatten \n",
        "'''"
      ],
      "metadata": {
        "colab": {
          "base_uri": "https://localhost:8080/",
          "height": 53
        },
        "id": "AIWUVnGAcm3X",
        "outputId": "1bbdc552-81c7-4ff3-9862-10fc21c26c29"
      },
      "execution_count": null,
      "outputs": [
        {
          "output_type": "execute_result",
          "data": {
            "text/plain": [
              "'\\nPo usunieciu arg padding, zmienia sie wymiar daneych wchodzacych do warstw sieci. \\nW przypadku pierwszych 3 warstw, szerkosc i wysokosc zmiejsza sie o 2, 1 i 3 jednostki.\\nSkutkiem tego jest dosc duze zmijeszenie wymiaru danych dla Warstwy Flatten \\n'"
            ],
            "application/vnd.google.colaboratory.intrinsic+json": {
              "type": "string"
            }
          },
          "metadata": {},
          "execution_count": 12
        }
      ]
    },
    {
      "cell_type": "markdown",
      "source": [
        "Odpowiedz na poniższe pytania: \n",
        "* Czy warstwa Conv2D się uczy w trakcie treningu?: \n",
        "* Czy warstwa MaxPooling2D się uczy w trakcie treningu?:\n",
        "* Dlaczego przed warstwą / warstwami Dense umieszczamy warstwę Flatten?:\n",
        "* Ile będziemy mieć kanałów / map aktywacji po przepuszczeniu obrazka przez pierwszą warstwę Conv2D naszej sieci?:\n"
      ],
      "metadata": {
        "id": "WQtBGHl-FYKj"
      }
    },
    {
      "cell_type": "code",
      "source": [
        "'''\n",
        "1. Warstwa Conv2D otrzymuje w parametrze funkcje aktywacji do wyboru, dodatkowo zwraca array z wagami w zaleznosci od parametrow a wagi sa aktualziowane przy kazdym przechodzeniu przez siec.\n",
        "2. MaxPooling2D odpowiada za zmnijeszanie danego obrazka w celu wychwycenia maksymalnych wartosci pixeli w danym obszarze. Pomoga to w uczeniu i ogranicza ryzyko przeuczenia modelu. Jest to warstwa ktora odpowiada za filtracje\n",
        "  obrazka otrzymanego z wejscia i zwraca pomniejszona wersje na wyjsciu. (W naszym wypadku zmiejszamy wymiar raz 2 za kazdym razem).\n",
        "3. Poniewaz warstwa Dense potrzebuje danych o jednym wymiarze, dlatego nasze dane ktore wczesnie sa wielowymairowe musza ulec splaszczeniu.\n",
        "4. Po przepuszczeniu obrazka przez pierwsza warstwe Conv2D dostaniemy 16 kanalow na wyjsciu.\n",
        "'''"
      ],
      "metadata": {
        "id": "xfyD0hUfx2gI"
      },
      "execution_count": null,
      "outputs": []
    },
    {
      "cell_type": "code",
      "source": [
        "import tensorflow as tf\n",
        "x = tf.constant([[1., 2., 3.],\n",
        "                  [4., 5., 6.],\n",
        "                 [7., 8., 9.]])\n",
        "x = tf.reshape(x, [1, 3, 3, 1])\n",
        "max_pool_2d = tf.keras.layers.MaxPooling2D(pool_size=(2, 2),\n",
        "strides=(1, 1), padding='valid')\n",
        "print(max_pool_2d(x))\n",
        "print(x)"
      ],
      "metadata": {
        "colab": {
          "base_uri": "https://localhost:8080/"
        },
        "id": "77SyvXr7NimF",
        "outputId": "cb55993d-6cb2-4974-ee39-a8552cd9e075"
      },
      "execution_count": null,
      "outputs": [
        {
          "output_type": "stream",
          "name": "stdout",
          "text": [
            "tf.Tensor(\n",
            "[[[[5.]\n",
            "   [6.]]\n",
            "\n",
            "  [[8.]\n",
            "   [9.]]]], shape=(1, 2, 2, 1), dtype=float32)\n",
            "tf.Tensor(\n",
            "[[[[1.]\n",
            "   [2.]\n",
            "   [3.]]\n",
            "\n",
            "  [[4.]\n",
            "   [5.]\n",
            "   [6.]]\n",
            "\n",
            "  [[7.]\n",
            "   [8.]\n",
            "   [9.]]]], shape=(1, 3, 3, 1), dtype=float32)\n"
          ]
        }
      ]
    },
    {
      "cell_type": "markdown",
      "metadata": {
        "id": "m4w8gGsElbVG"
      },
      "source": [
        "Teraz:\n",
        "* Uruchom metodę compile: loss 'categorical_crossentropy', optimizer 'adam'. Argument metrics przyjmuje tablicę stringów, możemy tam np. śledzić 'accuracy'. "
      ]
    },
    {
      "cell_type": "code",
      "metadata": {
        "id": "3ki1a29Zl65r"
      },
      "source": [
        "model.compile(loss='categorical_crossentropy', optimizer='adam', metrics='accuracy')"
      ],
      "execution_count": null,
      "outputs": []
    },
    {
      "cell_type": "code",
      "source": [
        "X_train.shape"
      ],
      "metadata": {
        "colab": {
          "base_uri": "https://localhost:8080/"
        },
        "id": "dYyCXKWRimyC",
        "outputId": "74476f62-c19f-4073-b215-9848325e4608"
      },
      "execution_count": null,
      "outputs": [
        {
          "output_type": "execute_result",
          "data": {
            "text/plain": [
              "(60000, 28, 28, 1)"
            ]
          },
          "metadata": {},
          "execution_count": 14
        }
      ]
    },
    {
      "cell_type": "markdown",
      "metadata": {
        "id": "7DEM-xKbmFNO"
      },
      "source": [
        "#### Trening\n",
        "* Wytrenuj sieć. 100 epok, batch_size 256."
      ]
    },
    {
      "cell_type": "code",
      "metadata": {
        "id": "m1DvkEW2JOA5",
        "colab": {
          "base_uri": "https://localhost:8080/"
        },
        "outputId": "4d6c072f-529e-4ace-f9c7-79d008dbbec9"
      },
      "source": [
        "model.fit(X_train, Y_train, batch_size=256, epochs=100)"
      ],
      "execution_count": null,
      "outputs": [
        {
          "output_type": "stream",
          "name": "stdout",
          "text": [
            "Epoch 1/100\n",
            "235/235 [==============================] - 7s 9ms/step - loss: 0.4773 - accuracy: 0.8653\n",
            "Epoch 2/100\n",
            "235/235 [==============================] - 2s 7ms/step - loss: 0.1221 - accuracy: 0.9640\n",
            "Epoch 3/100\n",
            "235/235 [==============================] - 1s 5ms/step - loss: 0.0840 - accuracy: 0.9742\n",
            "Epoch 4/100\n",
            "235/235 [==============================] - 1s 5ms/step - loss: 0.0665 - accuracy: 0.9807\n",
            "Epoch 5/100\n",
            "235/235 [==============================] - 1s 5ms/step - loss: 0.0579 - accuracy: 0.9825\n",
            "Epoch 6/100\n",
            "235/235 [==============================] - 1s 5ms/step - loss: 0.0525 - accuracy: 0.9840\n",
            "Epoch 7/100\n",
            "235/235 [==============================] - 1s 5ms/step - loss: 0.0471 - accuracy: 0.9859\n",
            "Epoch 8/100\n",
            "235/235 [==============================] - 1s 5ms/step - loss: 0.0432 - accuracy: 0.9869\n",
            "Epoch 9/100\n",
            "235/235 [==============================] - 1s 5ms/step - loss: 0.0401 - accuracy: 0.9879\n",
            "Epoch 10/100\n",
            "235/235 [==============================] - 1s 5ms/step - loss: 0.0369 - accuracy: 0.9886\n",
            "Epoch 11/100\n",
            "235/235 [==============================] - 1s 5ms/step - loss: 0.0338 - accuracy: 0.9895\n",
            "Epoch 12/100\n",
            "235/235 [==============================] - 1s 5ms/step - loss: 0.0325 - accuracy: 0.9901\n",
            "Epoch 13/100\n",
            "235/235 [==============================] - 1s 5ms/step - loss: 0.0296 - accuracy: 0.9909\n",
            "Epoch 14/100\n",
            "235/235 [==============================] - 1s 5ms/step - loss: 0.0282 - accuracy: 0.9912\n",
            "Epoch 15/100\n",
            "235/235 [==============================] - 1s 5ms/step - loss: 0.0261 - accuracy: 0.9918\n",
            "Epoch 16/100\n",
            "235/235 [==============================] - 1s 5ms/step - loss: 0.0249 - accuracy: 0.9924\n",
            "Epoch 17/100\n",
            "235/235 [==============================] - 1s 5ms/step - loss: 0.0229 - accuracy: 0.9933\n",
            "Epoch 18/100\n",
            "235/235 [==============================] - 1s 5ms/step - loss: 0.0210 - accuracy: 0.9935\n",
            "Epoch 19/100\n",
            "235/235 [==============================] - 1s 5ms/step - loss: 0.0196 - accuracy: 0.9939\n",
            "Epoch 20/100\n",
            "235/235 [==============================] - 1s 5ms/step - loss: 0.0190 - accuracy: 0.9944\n",
            "Epoch 21/100\n",
            "235/235 [==============================] - 1s 5ms/step - loss: 0.0178 - accuracy: 0.9944\n",
            "Epoch 22/100\n",
            "235/235 [==============================] - 1s 5ms/step - loss: 0.0164 - accuracy: 0.9949\n",
            "Epoch 23/100\n",
            "235/235 [==============================] - 1s 5ms/step - loss: 0.0150 - accuracy: 0.9955\n",
            "Epoch 24/100\n",
            "235/235 [==============================] - 1s 5ms/step - loss: 0.0139 - accuracy: 0.9958\n",
            "Epoch 25/100\n",
            "235/235 [==============================] - 1s 5ms/step - loss: 0.0138 - accuracy: 0.9956\n",
            "Epoch 26/100\n",
            "235/235 [==============================] - 1s 5ms/step - loss: 0.0127 - accuracy: 0.9960\n",
            "Epoch 27/100\n",
            "235/235 [==============================] - 1s 5ms/step - loss: 0.0108 - accuracy: 0.9970\n",
            "Epoch 28/100\n",
            "235/235 [==============================] - 1s 5ms/step - loss: 0.0112 - accuracy: 0.9969\n",
            "Epoch 29/100\n",
            "235/235 [==============================] - 1s 5ms/step - loss: 0.0102 - accuracy: 0.9969\n",
            "Epoch 30/100\n",
            "235/235 [==============================] - 1s 5ms/step - loss: 0.0100 - accuracy: 0.9969\n",
            "Epoch 31/100\n",
            "235/235 [==============================] - 1s 5ms/step - loss: 0.0095 - accuracy: 0.9971\n",
            "Epoch 32/100\n",
            "235/235 [==============================] - 1s 5ms/step - loss: 0.0077 - accuracy: 0.9980\n",
            "Epoch 33/100\n",
            "235/235 [==============================] - 1s 5ms/step - loss: 0.0078 - accuracy: 0.9977\n",
            "Epoch 34/100\n",
            "235/235 [==============================] - 1s 5ms/step - loss: 0.0070 - accuracy: 0.9979\n",
            "Epoch 35/100\n",
            "235/235 [==============================] - 1s 5ms/step - loss: 0.0072 - accuracy: 0.9977\n",
            "Epoch 36/100\n",
            "235/235 [==============================] - 1s 5ms/step - loss: 0.0071 - accuracy: 0.9978\n",
            "Epoch 37/100\n",
            "235/235 [==============================] - 1s 5ms/step - loss: 0.0066 - accuracy: 0.9979\n",
            "Epoch 38/100\n",
            "235/235 [==============================] - 1s 5ms/step - loss: 0.0065 - accuracy: 0.9977\n",
            "Epoch 39/100\n",
            "235/235 [==============================] - 1s 5ms/step - loss: 0.0063 - accuracy: 0.9978\n",
            "Epoch 40/100\n",
            "235/235 [==============================] - 1s 5ms/step - loss: 0.0044 - accuracy: 0.9987\n",
            "Epoch 41/100\n",
            "235/235 [==============================] - 1s 5ms/step - loss: 0.0050 - accuracy: 0.9985\n",
            "Epoch 42/100\n",
            "235/235 [==============================] - 1s 5ms/step - loss: 0.0051 - accuracy: 0.9984\n",
            "Epoch 43/100\n",
            "235/235 [==============================] - 1s 5ms/step - loss: 0.0047 - accuracy: 0.9986\n",
            "Epoch 44/100\n",
            "235/235 [==============================] - 1s 5ms/step - loss: 0.0036 - accuracy: 0.9990\n",
            "Epoch 45/100\n",
            "235/235 [==============================] - 1s 5ms/step - loss: 0.0043 - accuracy: 0.9987\n",
            "Epoch 46/100\n",
            "235/235 [==============================] - 1s 5ms/step - loss: 0.0036 - accuracy: 0.9988\n",
            "Epoch 47/100\n",
            "235/235 [==============================] - 1s 5ms/step - loss: 0.0044 - accuracy: 0.9987\n",
            "Epoch 48/100\n",
            "235/235 [==============================] - 1s 5ms/step - loss: 0.0037 - accuracy: 0.9987\n",
            "Epoch 49/100\n",
            "235/235 [==============================] - 1s 5ms/step - loss: 0.0033 - accuracy: 0.9990\n",
            "Epoch 50/100\n",
            "235/235 [==============================] - 1s 5ms/step - loss: 0.0029 - accuracy: 0.9992\n",
            "Epoch 51/100\n",
            "235/235 [==============================] - 1s 5ms/step - loss: 0.0048 - accuracy: 0.9984\n",
            "Epoch 52/100\n",
            "235/235 [==============================] - 1s 5ms/step - loss: 0.0036 - accuracy: 0.9989\n",
            "Epoch 53/100\n",
            "235/235 [==============================] - 1s 5ms/step - loss: 0.0022 - accuracy: 0.9992\n",
            "Epoch 54/100\n",
            "235/235 [==============================] - 1s 5ms/step - loss: 0.0013 - accuracy: 0.9997\n",
            "Epoch 55/100\n",
            "235/235 [==============================] - 1s 5ms/step - loss: 0.0012 - accuracy: 0.9998\n",
            "Epoch 56/100\n",
            "235/235 [==============================] - 1s 5ms/step - loss: 0.0027 - accuracy: 0.9992\n",
            "Epoch 57/100\n",
            "235/235 [==============================] - 1s 5ms/step - loss: 0.0040 - accuracy: 0.9987\n",
            "Epoch 58/100\n",
            "235/235 [==============================] - 1s 5ms/step - loss: 0.0041 - accuracy: 0.9985\n",
            "Epoch 59/100\n",
            "235/235 [==============================] - 1s 5ms/step - loss: 0.0021 - accuracy: 0.9995\n",
            "Epoch 60/100\n",
            "235/235 [==============================] - 1s 5ms/step - loss: 0.0023 - accuracy: 0.9994\n",
            "Epoch 61/100\n",
            "235/235 [==============================] - 1s 6ms/step - loss: 0.0015 - accuracy: 0.9996\n",
            "Epoch 62/100\n",
            "235/235 [==============================] - 2s 6ms/step - loss: 3.8134e-04 - accuracy: 1.0000\n",
            "Epoch 63/100\n",
            "235/235 [==============================] - 2s 6ms/step - loss: 2.5753e-04 - accuracy: 1.0000\n",
            "Epoch 64/100\n",
            "235/235 [==============================] - 1s 5ms/step - loss: 1.8757e-04 - accuracy: 1.0000\n",
            "Epoch 65/100\n",
            "235/235 [==============================] - 1s 5ms/step - loss: 1.5847e-04 - accuracy: 1.0000\n",
            "Epoch 66/100\n",
            "235/235 [==============================] - 1s 5ms/step - loss: 1.4435e-04 - accuracy: 1.0000\n",
            "Epoch 67/100\n",
            "235/235 [==============================] - 1s 5ms/step - loss: 1.3517e-04 - accuracy: 1.0000\n",
            "Epoch 68/100\n",
            "235/235 [==============================] - 1s 5ms/step - loss: 1.3625e-04 - accuracy: 1.0000\n",
            "Epoch 69/100\n",
            "235/235 [==============================] - 1s 5ms/step - loss: 1.1060e-04 - accuracy: 1.0000\n",
            "Epoch 70/100\n",
            "235/235 [==============================] - 1s 5ms/step - loss: 1.0649e-04 - accuracy: 1.0000\n",
            "Epoch 71/100\n",
            "235/235 [==============================] - 1s 5ms/step - loss: 1.1500e-04 - accuracy: 1.0000\n",
            "Epoch 72/100\n",
            "235/235 [==============================] - 1s 5ms/step - loss: 0.0163 - accuracy: 0.9948\n",
            "Epoch 73/100\n",
            "235/235 [==============================] - 1s 5ms/step - loss: 0.0044 - accuracy: 0.9984\n",
            "Epoch 74/100\n",
            "235/235 [==============================] - 1s 5ms/step - loss: 0.0018 - accuracy: 0.9996\n",
            "Epoch 75/100\n",
            "235/235 [==============================] - 1s 5ms/step - loss: 5.7848e-04 - accuracy: 0.9999\n",
            "Epoch 76/100\n",
            "235/235 [==============================] - 1s 5ms/step - loss: 2.4216e-04 - accuracy: 1.0000\n",
            "Epoch 77/100\n",
            "235/235 [==============================] - 1s 6ms/step - loss: 1.7998e-04 - accuracy: 1.0000\n",
            "Epoch 78/100\n",
            "235/235 [==============================] - 1s 5ms/step - loss: 1.5400e-04 - accuracy: 1.0000\n",
            "Epoch 79/100\n",
            "235/235 [==============================] - 1s 5ms/step - loss: 1.2645e-04 - accuracy: 1.0000\n",
            "Epoch 80/100\n",
            "235/235 [==============================] - 1s 5ms/step - loss: 1.2016e-04 - accuracy: 1.0000\n",
            "Epoch 81/100\n",
            "235/235 [==============================] - 1s 5ms/step - loss: 1.0898e-04 - accuracy: 1.0000\n",
            "Epoch 82/100\n",
            "235/235 [==============================] - 1s 5ms/step - loss: 1.0046e-04 - accuracy: 1.0000\n",
            "Epoch 83/100\n",
            "235/235 [==============================] - 1s 5ms/step - loss: 9.0581e-05 - accuracy: 1.0000\n",
            "Epoch 84/100\n",
            "235/235 [==============================] - 1s 5ms/step - loss: 8.0828e-05 - accuracy: 1.0000\n",
            "Epoch 85/100\n",
            "235/235 [==============================] - 1s 5ms/step - loss: 9.4934e-05 - accuracy: 1.0000\n",
            "Epoch 86/100\n",
            "235/235 [==============================] - 1s 5ms/step - loss: 0.0126 - accuracy: 0.9962\n",
            "Epoch 87/100\n",
            "235/235 [==============================] - 1s 5ms/step - loss: 0.0047 - accuracy: 0.9985\n",
            "Epoch 88/100\n",
            "235/235 [==============================] - 1s 5ms/step - loss: 0.0015 - accuracy: 0.9996\n",
            "Epoch 89/100\n",
            "235/235 [==============================] - 1s 5ms/step - loss: 4.5232e-04 - accuracy: 1.0000\n",
            "Epoch 90/100\n",
            "235/235 [==============================] - 1s 5ms/step - loss: 2.3934e-04 - accuracy: 1.0000\n",
            "Epoch 91/100\n",
            "235/235 [==============================] - 1s 5ms/step - loss: 1.4970e-04 - accuracy: 1.0000\n",
            "Epoch 92/100\n",
            "235/235 [==============================] - 1s 5ms/step - loss: 1.2204e-04 - accuracy: 1.0000\n",
            "Epoch 93/100\n",
            "235/235 [==============================] - 1s 5ms/step - loss: 1.0407e-04 - accuracy: 1.0000\n",
            "Epoch 94/100\n",
            "235/235 [==============================] - 1s 5ms/step - loss: 9.1213e-05 - accuracy: 1.0000\n",
            "Epoch 95/100\n",
            "235/235 [==============================] - 1s 5ms/step - loss: 8.3902e-05 - accuracy: 1.0000\n",
            "Epoch 96/100\n",
            "235/235 [==============================] - 1s 5ms/step - loss: 7.4223e-05 - accuracy: 1.0000\n",
            "Epoch 97/100\n",
            "235/235 [==============================] - 1s 5ms/step - loss: 6.5522e-05 - accuracy: 1.0000\n",
            "Epoch 98/100\n",
            "235/235 [==============================] - 1s 5ms/step - loss: 6.5987e-05 - accuracy: 1.0000\n",
            "Epoch 99/100\n",
            "235/235 [==============================] - 1s 5ms/step - loss: 5.7376e-05 - accuracy: 1.0000\n",
            "Epoch 100/100\n",
            "235/235 [==============================] - 1s 5ms/step - loss: 5.2077e-05 - accuracy: 1.0000\n"
          ]
        },
        {
          "output_type": "execute_result",
          "data": {
            "text/plain": [
              "<keras.callbacks.History at 0x7fb8aa01a1d0>"
            ]
          },
          "metadata": {},
          "execution_count": 15
        }
      ]
    },
    {
      "cell_type": "markdown",
      "metadata": {
        "id": "fgxalzmim4Hl"
      },
      "source": [
        "#### Ewaluacja\n",
        "* Zrób ewaluację naszego modelu na zbiorze treningowym i testowym (metoda evaluate). \n",
        "* Podaj wyniki dla obu zbiorów: \n",
        "* Czy wyniki się różnią? Dlaczego? "
      ]
    },
    {
      "cell_type": "code",
      "metadata": {
        "id": "HDCHLqc4m4qX",
        "colab": {
          "base_uri": "https://localhost:8080/",
          "height": 87
        },
        "outputId": "ec41f49b-6504-4d62-bb96-5b9d906b37d5"
      },
      "source": [
        "model.evaluate(X_train, Y_train)\n",
        "model.evaluate(X_test, Y_test)\n",
        "\n",
        "'''\n",
        "Accuracy na zbiorze trenigowym dalej wynosi 1.0, natomiast w zbiorze testowym wynosi niecale 99%.\n",
        "Model uczyl sie na danych trenigowych, ktore widzial duzo razy i dobrze sie na nich nauczyl (mogl juz sie nawet nieco przetrenowac)\n",
        "W przypadku danych testowych, wynik jest gorsz poniewaz te dane  widzial pierwszy raz. Mimo to, wyniki na danych testowych i tak jest dobry.\n",
        "'''"
      ],
      "execution_count": null,
      "outputs": [
        {
          "output_type": "stream",
          "name": "stdout",
          "text": [
            "1875/1875 [==============================] - 4s 2ms/step - loss: 4.4610e-05 - accuracy: 1.0000\n",
            "313/313 [==============================] - 1s 3ms/step - loss: 0.0687 - accuracy: 0.9891\n"
          ]
        },
        {
          "output_type": "execute_result",
          "data": {
            "text/plain": [
              "'\\nAccuracy na zbiorze trenigowym dalej wynosi 1.0, natomiast w zbiorze testowym wynosi niecale 99%.\\nModel uczyl sie na danych trenigowych, ktore widzial duzo razy i dobrze sie na nich nauczyl (mogl juz sie nawet nieco przetrenowac)\\nW przypadku danych testowych, wynik jest gorsz poniewaz te dane  widzial pierwszy raz. Mimo to, wyniki na danych testowych i tak jest dobry.\\n'"
            ],
            "application/vnd.google.colaboratory.intrinsic+json": {
              "type": "string"
            }
          },
          "metadata": {},
          "execution_count": 16
        }
      ]
    },
    {
      "cell_type": "markdown",
      "source": [
        "## FASHION MNIST \n",
        "Teraz powtórzymy eksperyment na innym, ale bardzo podobnym zbiorze danych. "
      ],
      "metadata": {
        "id": "KpYN73AvzHP-"
      }
    },
    {
      "cell_type": "markdown",
      "source": [
        "### Wczytanie i przygotowanie danych\n",
        "* Wczytaj zbiór fashion_mnist analogicznie do mnist'a\n",
        "* Przygotuj dane treningowe/testowe oraz etykiety analogicznie do mnista'a"
      ],
      "metadata": {
        "id": "ARZBHpQzzScV"
      }
    },
    {
      "cell_type": "code",
      "source": [
        "from keras.datasets import fashion_mnist\n",
        "\n",
        "(X_train, y_train), (X_test, y_test) = fashion_mnist.load_data()"
      ],
      "metadata": {
        "id": "rGXwp8ISzXUX"
      },
      "execution_count": null,
      "outputs": []
    },
    {
      "cell_type": "markdown",
      "metadata": {
        "id": "dUYwh9zjrp6-"
      },
      "source": [
        "* Wyświetl 12 pierwszych instancji treningowych"
      ]
    },
    {
      "cell_type": "code",
      "metadata": {
        "id": "dvck7YSXpUbk",
        "colab": {
          "base_uri": "https://localhost:8080/",
          "height": 297
        },
        "outputId": "8d84802c-cfd7-41ef-d469-b00cb8428e0b"
      },
      "source": [
        "for i in range(1, 13):\n",
        "  plt.subplot(3, 4, i)   \n",
        "  plt.imshow(X_train[i])  \n",
        "plt.tight_layout()  \n",
        "plt.show()"
      ],
      "execution_count": null,
      "outputs": [
        {
          "output_type": "display_data",
          "data": {
            "text/plain": [
              "<Figure size 432x288 with 12 Axes>"
            ],
            "image/png": "[encoded data removed]"
          },
          "metadata": {
            "needs_background": "light"
          }
        }
      ]
    },
    {
      "cell_type": "markdown",
      "metadata": {
        "id": "3psthgTBsqq5"
      },
      "source": [
        "* Przygotuj dane i etykiety do treningu (tak samo jak w mnist)"
      ]
    },
    {
      "cell_type": "code",
      "metadata": {
        "id": "PRCzkluipzN9"
      },
      "source": [
        "X_train = X_train.astype('float32')\n",
        "X_test = X_test.astype('float32')\n",
        "\n",
        "scaler = MinMaxScaler()\n",
        "# # transform data\n",
        "X_train = scaler.fit_transform(X_train.reshape(X_train.shape[0],-1))\n",
        "X_test = scaler.fit_transform(X_test.reshape(X_test.shape[0],-1))\n",
        "\n",
        "X_train = X_train.reshape(X_train.shape[0],28,28)\n",
        "X_test = X_test.reshape(X_test.shape[0],28,28)\n",
        "\n",
        "Y_train = to_categorical(y_train)\n",
        "Y_test = to_categorical(y_test)\n",
        "\n",
        "X_train = X_train.reshape(X_train.shape[0], 28, 28, 1)\n",
        "X_test = X_test.reshape(X_test.shape[0], 28, 28, 1)"
      ],
      "execution_count": null,
      "outputs": []
    },
    {
      "cell_type": "markdown",
      "source": [
        "### Przygotowanie sieci i trening"
      ],
      "metadata": {
        "id": "iLeo5SeS9IcG"
      }
    },
    {
      "cell_type": "markdown",
      "source": [
        "* Stwórz identyczną sieć jak przy mnist i przeprowadź trening. "
      ],
      "metadata": {
        "id": "Rk9UYbxy7HS4"
      }
    },
    {
      "cell_type": "code",
      "source": [
        "model1 = Sequential([\n",
        "  Conv2D(16, kernel_size=(3,3), padding='same',activation='relu', input_shape = (28, 28, 1)),\n",
        "  MaxPooling2D(pool_size=(2,2)),\n",
        "  Conv2D(32, kernel_size=(3,3), padding='same',activation='relu'),\n",
        "  MaxPooling2D(pool_size=(2,2)),\n",
        "  Flatten(),  \n",
        "  Dense(10, activation='softmax')\n",
        "])\n",
        "\n",
        "model1.compile(loss='categorical_crossentropy', optimizer='adam', metrics='accuracy')\n",
        "model1.fit(X_train, Y_train, batch_size=256, epochs=100)"
      ],
      "metadata": {
        "id": "NiaOEpty8cmq",
        "colab": {
          "base_uri": "https://localhost:8080/"
        },
        "outputId": "95fe1cdd-5f41-4431-aea7-5fd61cba63cb"
      },
      "execution_count": null,
      "outputs": [
        {
          "output_type": "stream",
          "name": "stdout",
          "text": [
            "Epoch 1/100\n",
            "235/235 [==============================] - 2s 5ms/step - loss: 0.7094 - accuracy: 0.7545\n",
            "Epoch 2/100\n",
            "235/235 [==============================] - 1s 5ms/step - loss: 0.4241 - accuracy: 0.8499\n",
            "Epoch 3/100\n",
            "235/235 [==============================] - 1s 5ms/step - loss: 0.3772 - accuracy: 0.8660\n",
            "Epoch 4/100\n",
            "235/235 [==============================] - 1s 5ms/step - loss: 0.3505 - accuracy: 0.8768\n",
            "Epoch 5/100\n",
            "235/235 [==============================] - 1s 5ms/step - loss: 0.3328 - accuracy: 0.8819\n",
            "Epoch 6/100\n",
            "235/235 [==============================] - 1s 5ms/step - loss: 0.3167 - accuracy: 0.8878\n",
            "Epoch 7/100\n",
            "235/235 [==============================] - 1s 5ms/step - loss: 0.3038 - accuracy: 0.8924\n",
            "Epoch 8/100\n",
            "235/235 [==============================] - 1s 5ms/step - loss: 0.2962 - accuracy: 0.8943\n",
            "Epoch 9/100\n",
            "235/235 [==============================] - 1s 5ms/step - loss: 0.2884 - accuracy: 0.8975\n",
            "Epoch 10/100\n",
            "235/235 [==============================] - 1s 5ms/step - loss: 0.2796 - accuracy: 0.9000\n",
            "Epoch 11/100\n",
            "235/235 [==============================] - 1s 5ms/step - loss: 0.2727 - accuracy: 0.9031\n",
            "Epoch 12/100\n",
            "235/235 [==============================] - 1s 5ms/step - loss: 0.2659 - accuracy: 0.9057\n",
            "Epoch 13/100\n",
            "235/235 [==============================] - 1s 5ms/step - loss: 0.2606 - accuracy: 0.9070\n",
            "Epoch 14/100\n",
            "235/235 [==============================] - 1s 5ms/step - loss: 0.2554 - accuracy: 0.9090\n",
            "Epoch 15/100\n",
            "235/235 [==============================] - 1s 5ms/step - loss: 0.2523 - accuracy: 0.9102\n",
            "Epoch 16/100\n",
            "235/235 [==============================] - 1s 5ms/step - loss: 0.2419 - accuracy: 0.9131\n",
            "Epoch 17/100\n",
            "235/235 [==============================] - 1s 5ms/step - loss: 0.2402 - accuracy: 0.9138\n",
            "Epoch 18/100\n",
            "235/235 [==============================] - 1s 5ms/step - loss: 0.2331 - accuracy: 0.9166\n",
            "Epoch 19/100\n",
            "235/235 [==============================] - 1s 5ms/step - loss: 0.2310 - accuracy: 0.9173\n",
            "Epoch 20/100\n",
            "235/235 [==============================] - 1s 5ms/step - loss: 0.2278 - accuracy: 0.9183\n",
            "Epoch 21/100\n",
            "235/235 [==============================] - 1s 5ms/step - loss: 0.2221 - accuracy: 0.9203\n",
            "Epoch 22/100\n",
            "235/235 [==============================] - 1s 5ms/step - loss: 0.2160 - accuracy: 0.9228\n",
            "Epoch 23/100\n",
            "235/235 [==============================] - 1s 5ms/step - loss: 0.2176 - accuracy: 0.9212\n",
            "Epoch 24/100\n",
            "235/235 [==============================] - 1s 5ms/step - loss: 0.2113 - accuracy: 0.9236\n",
            "Epoch 25/100\n",
            "235/235 [==============================] - 1s 5ms/step - loss: 0.2084 - accuracy: 0.9252\n",
            "Epoch 26/100\n",
            "235/235 [==============================] - 1s 5ms/step - loss: 0.2049 - accuracy: 0.9260\n",
            "Epoch 27/100\n",
            "235/235 [==============================] - 1s 5ms/step - loss: 0.2007 - accuracy: 0.9273\n",
            "Epoch 28/100\n",
            "235/235 [==============================] - 1s 5ms/step - loss: 0.1977 - accuracy: 0.9289\n",
            "Epoch 29/100\n",
            "235/235 [==============================] - 1s 5ms/step - loss: 0.1946 - accuracy: 0.9298\n",
            "Epoch 30/100\n",
            "235/235 [==============================] - 1s 5ms/step - loss: 0.1921 - accuracy: 0.9309\n",
            "Epoch 31/100\n",
            "235/235 [==============================] - 1s 5ms/step - loss: 0.1904 - accuracy: 0.9315\n",
            "Epoch 32/100\n",
            "235/235 [==============================] - 1s 5ms/step - loss: 0.1880 - accuracy: 0.9315\n",
            "Epoch 33/100\n",
            "235/235 [==============================] - 1s 5ms/step - loss: 0.1818 - accuracy: 0.9355\n",
            "Epoch 34/100\n",
            "235/235 [==============================] - 1s 5ms/step - loss: 0.1809 - accuracy: 0.9340\n",
            "Epoch 35/100\n",
            "235/235 [==============================] - 1s 5ms/step - loss: 0.1786 - accuracy: 0.9358\n",
            "Epoch 36/100\n",
            "235/235 [==============================] - 1s 5ms/step - loss: 0.1788 - accuracy: 0.9357\n",
            "Epoch 37/100\n",
            "235/235 [==============================] - 1s 5ms/step - loss: 0.1728 - accuracy: 0.9381\n",
            "Epoch 38/100\n",
            "235/235 [==============================] - 1s 5ms/step - loss: 0.1704 - accuracy: 0.9391\n",
            "Epoch 39/100\n",
            "235/235 [==============================] - 1s 5ms/step - loss: 0.1689 - accuracy: 0.9395\n",
            "Epoch 40/100\n",
            "235/235 [==============================] - 1s 5ms/step - loss: 0.1660 - accuracy: 0.9405\n",
            "Epoch 41/100\n",
            "235/235 [==============================] - 1s 5ms/step - loss: 0.1658 - accuracy: 0.9390\n",
            "Epoch 42/100\n",
            "235/235 [==============================] - 1s 5ms/step - loss: 0.1646 - accuracy: 0.9411\n",
            "Epoch 43/100\n",
            "235/235 [==============================] - 1s 5ms/step - loss: 0.1575 - accuracy: 0.9432\n",
            "Epoch 44/100\n",
            "235/235 [==============================] - 1s 5ms/step - loss: 0.1616 - accuracy: 0.9413\n",
            "Epoch 45/100\n",
            "235/235 [==============================] - 1s 5ms/step - loss: 0.1607 - accuracy: 0.9419\n",
            "Epoch 46/100\n",
            "235/235 [==============================] - 1s 5ms/step - loss: 0.1537 - accuracy: 0.9443\n",
            "Epoch 47/100\n",
            "235/235 [==============================] - 1s 5ms/step - loss: 0.1549 - accuracy: 0.9442\n",
            "Epoch 48/100\n",
            "235/235 [==============================] - 1s 5ms/step - loss: 0.1507 - accuracy: 0.9454\n",
            "Epoch 49/100\n",
            "235/235 [==============================] - 1s 5ms/step - loss: 0.1520 - accuracy: 0.9449\n",
            "Epoch 50/100\n",
            "235/235 [==============================] - 1s 5ms/step - loss: 0.1468 - accuracy: 0.9475\n",
            "Epoch 51/100\n",
            "235/235 [==============================] - 1s 5ms/step - loss: 0.1461 - accuracy: 0.9473\n",
            "Epoch 52/100\n",
            "235/235 [==============================] - 1s 5ms/step - loss: 0.1438 - accuracy: 0.9474\n",
            "Epoch 53/100\n",
            "235/235 [==============================] - 1s 5ms/step - loss: 0.1428 - accuracy: 0.9483\n",
            "Epoch 54/100\n",
            "235/235 [==============================] - 1s 5ms/step - loss: 0.1419 - accuracy: 0.9486\n",
            "Epoch 55/100\n",
            "235/235 [==============================] - 1s 5ms/step - loss: 0.1404 - accuracy: 0.9488\n",
            "Epoch 56/100\n",
            "235/235 [==============================] - 1s 5ms/step - loss: 0.1386 - accuracy: 0.9494\n",
            "Epoch 57/100\n",
            "235/235 [==============================] - 1s 5ms/step - loss: 0.1387 - accuracy: 0.9493\n",
            "Epoch 58/100\n",
            "235/235 [==============================] - 1s 5ms/step - loss: 0.1370 - accuracy: 0.9505\n",
            "Epoch 59/100\n",
            "235/235 [==============================] - 1s 5ms/step - loss: 0.1348 - accuracy: 0.9513\n",
            "Epoch 60/100\n",
            "235/235 [==============================] - 1s 5ms/step - loss: 0.1332 - accuracy: 0.9514\n",
            "Epoch 61/100\n",
            "235/235 [==============================] - 1s 5ms/step - loss: 0.1337 - accuracy: 0.9513\n",
            "Epoch 62/100\n",
            "235/235 [==============================] - 1s 5ms/step - loss: 0.1343 - accuracy: 0.9511\n",
            "Epoch 63/100\n",
            "235/235 [==============================] - 1s 5ms/step - loss: 0.1294 - accuracy: 0.9535\n",
            "Epoch 64/100\n",
            "235/235 [==============================] - 1s 5ms/step - loss: 0.1302 - accuracy: 0.9531\n",
            "Epoch 65/100\n",
            "235/235 [==============================] - 1s 5ms/step - loss: 0.1295 - accuracy: 0.9533\n",
            "Epoch 66/100\n",
            "235/235 [==============================] - 1s 5ms/step - loss: 0.1259 - accuracy: 0.9536\n",
            "Epoch 67/100\n",
            "235/235 [==============================] - 1s 5ms/step - loss: 0.1258 - accuracy: 0.9546\n",
            "Epoch 68/100\n",
            "235/235 [==============================] - 1s 5ms/step - loss: 0.1225 - accuracy: 0.9561\n",
            "Epoch 69/100\n",
            "235/235 [==============================] - 1s 5ms/step - loss: 0.1223 - accuracy: 0.9560\n",
            "Epoch 70/100\n",
            "235/235 [==============================] - 1s 5ms/step - loss: 0.1229 - accuracy: 0.9553\n",
            "Epoch 71/100\n",
            "235/235 [==============================] - 1s 5ms/step - loss: 0.1200 - accuracy: 0.9564\n",
            "Epoch 72/100\n",
            "235/235 [==============================] - 1s 5ms/step - loss: 0.1209 - accuracy: 0.9562\n",
            "Epoch 73/100\n",
            "235/235 [==============================] - 1s 5ms/step - loss: 0.1176 - accuracy: 0.9567\n",
            "Epoch 74/100\n",
            "235/235 [==============================] - 1s 5ms/step - loss: 0.1189 - accuracy: 0.9570\n",
            "Epoch 75/100\n",
            "235/235 [==============================] - 1s 5ms/step - loss: 0.1186 - accuracy: 0.9563\n",
            "Epoch 76/100\n",
            "235/235 [==============================] - 1s 5ms/step - loss: 0.1179 - accuracy: 0.9567\n",
            "Epoch 77/100\n",
            "235/235 [==============================] - 1s 5ms/step - loss: 0.1149 - accuracy: 0.9590\n",
            "Epoch 78/100\n",
            "235/235 [==============================] - 1s 5ms/step - loss: 0.1130 - accuracy: 0.9595\n",
            "Epoch 79/100\n",
            "235/235 [==============================] - 1s 5ms/step - loss: 0.1133 - accuracy: 0.9596\n",
            "Epoch 80/100\n",
            "235/235 [==============================] - 1s 5ms/step - loss: 0.1119 - accuracy: 0.9594\n",
            "Epoch 81/100\n",
            "235/235 [==============================] - 1s 5ms/step - loss: 0.1092 - accuracy: 0.9607\n",
            "Epoch 82/100\n",
            "235/235 [==============================] - 1s 5ms/step - loss: 0.1110 - accuracy: 0.9607\n",
            "Epoch 83/100\n",
            "235/235 [==============================] - 1s 5ms/step - loss: 0.1109 - accuracy: 0.9602\n",
            "Epoch 84/100\n",
            "235/235 [==============================] - 1s 5ms/step - loss: 0.1097 - accuracy: 0.9609\n",
            "Epoch 85/100\n",
            "235/235 [==============================] - 1s 5ms/step - loss: 0.1075 - accuracy: 0.9610\n",
            "Epoch 86/100\n",
            "235/235 [==============================] - 1s 5ms/step - loss: 0.1061 - accuracy: 0.9621\n",
            "Epoch 87/100\n",
            "235/235 [==============================] - 1s 5ms/step - loss: 0.1069 - accuracy: 0.9613\n",
            "Epoch 88/100\n",
            "235/235 [==============================] - 1s 5ms/step - loss: 0.1036 - accuracy: 0.9625\n",
            "Epoch 89/100\n",
            "235/235 [==============================] - 1s 5ms/step - loss: 0.1070 - accuracy: 0.9610\n",
            "Epoch 90/100\n",
            "235/235 [==============================] - 1s 5ms/step - loss: 0.1022 - accuracy: 0.9628\n",
            "Epoch 91/100\n",
            "235/235 [==============================] - 1s 5ms/step - loss: 0.1048 - accuracy: 0.9628\n",
            "Epoch 92/100\n",
            "235/235 [==============================] - 1s 5ms/step - loss: 0.1027 - accuracy: 0.9635\n",
            "Epoch 93/100\n",
            "235/235 [==============================] - 1s 5ms/step - loss: 0.1001 - accuracy: 0.9638\n",
            "Epoch 94/100\n",
            "235/235 [==============================] - 1s 5ms/step - loss: 0.1013 - accuracy: 0.9630\n",
            "Epoch 95/100\n",
            "235/235 [==============================] - 1s 5ms/step - loss: 0.1008 - accuracy: 0.9632\n",
            "Epoch 96/100\n",
            "235/235 [==============================] - 1s 5ms/step - loss: 0.0997 - accuracy: 0.9642\n",
            "Epoch 97/100\n",
            "235/235 [==============================] - 1s 5ms/step - loss: 0.1025 - accuracy: 0.9627\n",
            "Epoch 98/100\n",
            "235/235 [==============================] - 1s 5ms/step - loss: 0.0971 - accuracy: 0.9656\n",
            "Epoch 99/100\n",
            "235/235 [==============================] - 1s 5ms/step - loss: 0.0962 - accuracy: 0.9650\n",
            "Epoch 100/100\n",
            "235/235 [==============================] - 1s 5ms/step - loss: 0.0962 - accuracy: 0.9657\n"
          ]
        },
        {
          "output_type": "execute_result",
          "data": {
            "text/plain": [
              "<keras.callbacks.History at 0x7fb8aa024210>"
            ]
          },
          "metadata": {},
          "execution_count": 20
        }
      ]
    },
    {
      "cell_type": "markdown",
      "source": [
        "### Ewaluacja\n",
        "* Zrób ewaluację naszego modelu na zbiorze treningowym i testowym (metoda evaluate).\n",
        "* Podaj wyniki dla obu zbiorów:"
      ],
      "metadata": {
        "id": "8cb5C4zQ80dF"
      }
    },
    {
      "cell_type": "code",
      "source": [
        "model1.evaluate(X_train, Y_train)\n",
        "model1.evaluate(X_test, Y_test)"
      ],
      "metadata": {
        "id": "JRHj84dz9mmh",
        "colab": {
          "base_uri": "https://localhost:8080/"
        },
        "outputId": "9dce5e60-068a-47c3-f0ab-ac264173eaaf"
      },
      "execution_count": null,
      "outputs": [
        {
          "output_type": "stream",
          "name": "stdout",
          "text": [
            "1875/1875 [==============================] - 5s 2ms/step - loss: 0.0881 - accuracy: 0.9690\n",
            "313/313 [==============================] - 1s 3ms/step - loss: 0.3457 - accuracy: 0.9076\n"
          ]
        },
        {
          "output_type": "execute_result",
          "data": {
            "text/plain": [
              "[0.34570789337158203, 0.9075999855995178]"
            ]
          },
          "metadata": {},
          "execution_count": 21
        }
      ]
    },
    {
      "cell_type": "markdown",
      "source": [
        "### Early stopping\n",
        "* Dodajmy do treningu zbiór walidacyjny - możesz do tego użyć argumentu 'validation_split' metody [fit](https://keras.io/api/models/model_training_apis/). Zróbmy 10%. \n",
        "* Dodaj [early stopping](https://keras.io/api/callbacks/early_stopping/), patience 5. \n",
        "* Przeprowadź dwa treningi - najpierw monitorując w early stopping 'loss' a potem 'val_loss'. Jaka jest różnica? \n",
        "\n",
        "Jeśli early stopping nie miał okazji zadziałać, zwiększ liczbę epok. "
      ],
      "metadata": {
        "id": "Btt8b3Ve9rew"
      }
    },
    {
      "cell_type": "code",
      "source": [
        "callback = tf.keras.callbacks.EarlyStopping(monitor='loss', patience=5)\n",
        "model2 = Sequential([\n",
        "  Conv2D(16, kernel_size=(3,3), padding='same',activation='relu', input_shape = (28, 28, 1)),\n",
        "  MaxPooling2D(pool_size=(2,2)),\n",
        "  Conv2D(32, kernel_size=(3,3), padding='same',activation='relu'),\n",
        "  MaxPooling2D(pool_size=(2,2)),\n",
        "  Flatten(),  \n",
        "  Dense(10, activation='softmax')\n",
        "])\n",
        "\n",
        "model2.compile(loss='categorical_crossentropy', optimizer='adam', metrics='accuracy')\n",
        "\n",
        "\n",
        "model2.fit(X_train, Y_train, batch_size=256, epochs=100, validation_split=0.1, callbacks=[callback])"
      ],
      "metadata": {
        "id": "bNFBJcEe9tCC",
        "colab": {
          "base_uri": "https://localhost:8080/"
        },
        "outputId": "ae80df3f-7c5a-4bcf-f71c-9da281be4e9f"
      },
      "execution_count": null,
      "outputs": [
        {
          "output_type": "stream",
          "name": "stdout",
          "text": [
            "Epoch 1/100\n",
            "211/211 [==============================] - 2s 7ms/step - loss: 0.7239 - accuracy: 0.7471 - val_loss: 0.4621 - val_accuracy: 0.8335\n",
            "Epoch 2/100\n",
            "211/211 [==============================] - 1s 6ms/step - loss: 0.4269 - accuracy: 0.8489 - val_loss: 0.4280 - val_accuracy: 0.8442\n",
            "Epoch 3/100\n",
            "211/211 [==============================] - 1s 6ms/step - loss: 0.3810 - accuracy: 0.8653 - val_loss: 0.3709 - val_accuracy: 0.8697\n",
            "Epoch 4/100\n",
            "211/211 [==============================] - 1s 6ms/step - loss: 0.3571 - accuracy: 0.8744 - val_loss: 0.3470 - val_accuracy: 0.8768\n",
            "Epoch 5/100\n",
            "211/211 [==============================] - 1s 6ms/step - loss: 0.3401 - accuracy: 0.8807 - val_loss: 0.3342 - val_accuracy: 0.8828\n",
            "Epoch 6/100\n",
            "211/211 [==============================] - 1s 6ms/step - loss: 0.3241 - accuracy: 0.8861 - val_loss: 0.3173 - val_accuracy: 0.8867\n",
            "Epoch 7/100\n",
            "211/211 [==============================] - 1s 6ms/step - loss: 0.3121 - accuracy: 0.8909 - val_loss: 0.3133 - val_accuracy: 0.8877\n",
            "Epoch 8/100\n",
            "211/211 [==============================] - 1s 6ms/step - loss: 0.2998 - accuracy: 0.8946 - val_loss: 0.3016 - val_accuracy: 0.8913\n",
            "Epoch 9/100\n",
            "211/211 [==============================] - 1s 6ms/step - loss: 0.2921 - accuracy: 0.8979 - val_loss: 0.3011 - val_accuracy: 0.8913\n",
            "Epoch 10/100\n",
            "211/211 [==============================] - 1s 6ms/step - loss: 0.2854 - accuracy: 0.8990 - val_loss: 0.3117 - val_accuracy: 0.8872\n",
            "Epoch 11/100\n",
            "211/211 [==============================] - 1s 6ms/step - loss: 0.2750 - accuracy: 0.9041 - val_loss: 0.2875 - val_accuracy: 0.9000\n",
            "Epoch 12/100\n",
            "211/211 [==============================] - 1s 6ms/step - loss: 0.2705 - accuracy: 0.9047 - val_loss: 0.2915 - val_accuracy: 0.8930\n",
            "Epoch 13/100\n",
            "211/211 [==============================] - 1s 6ms/step - loss: 0.2646 - accuracy: 0.9063 - val_loss: 0.2815 - val_accuracy: 0.9025\n",
            "Epoch 14/100\n",
            "211/211 [==============================] - 1s 6ms/step - loss: 0.2542 - accuracy: 0.9101 - val_loss: 0.2720 - val_accuracy: 0.9012\n",
            "Epoch 15/100\n",
            "211/211 [==============================] - 1s 6ms/step - loss: 0.2506 - accuracy: 0.9111 - val_loss: 0.2747 - val_accuracy: 0.8987\n",
            "Epoch 16/100\n",
            "211/211 [==============================] - 1s 6ms/step - loss: 0.2498 - accuracy: 0.9108 - val_loss: 0.2735 - val_accuracy: 0.9020\n",
            "Epoch 17/100\n",
            "211/211 [==============================] - 1s 6ms/step - loss: 0.2432 - accuracy: 0.9127 - val_loss: 0.2584 - val_accuracy: 0.9082\n",
            "Epoch 18/100\n",
            "211/211 [==============================] - 1s 6ms/step - loss: 0.2380 - accuracy: 0.9156 - val_loss: 0.2618 - val_accuracy: 0.9072\n",
            "Epoch 19/100\n",
            "211/211 [==============================] - 1s 6ms/step - loss: 0.2308 - accuracy: 0.9174 - val_loss: 0.2539 - val_accuracy: 0.9110\n",
            "Epoch 20/100\n",
            "211/211 [==============================] - 1s 6ms/step - loss: 0.2269 - accuracy: 0.9195 - val_loss: 0.2620 - val_accuracy: 0.9087\n",
            "Epoch 21/100\n",
            "211/211 [==============================] - 1s 6ms/step - loss: 0.2220 - accuracy: 0.9210 - val_loss: 0.2895 - val_accuracy: 0.8945\n",
            "Epoch 22/100\n",
            "211/211 [==============================] - 1s 6ms/step - loss: 0.2199 - accuracy: 0.9204 - val_loss: 0.2456 - val_accuracy: 0.9127\n",
            "Epoch 23/100\n",
            "211/211 [==============================] - 1s 6ms/step - loss: 0.2146 - accuracy: 0.9240 - val_loss: 0.2509 - val_accuracy: 0.9113\n",
            "Epoch 24/100\n",
            "211/211 [==============================] - 1s 6ms/step - loss: 0.2119 - accuracy: 0.9233 - val_loss: 0.2472 - val_accuracy: 0.9098\n",
            "Epoch 25/100\n",
            "211/211 [==============================] - 1s 6ms/step - loss: 0.2060 - accuracy: 0.9265 - val_loss: 0.2500 - val_accuracy: 0.9118\n",
            "Epoch 26/100\n",
            "211/211 [==============================] - 1s 6ms/step - loss: 0.2032 - accuracy: 0.9271 - val_loss: 0.2420 - val_accuracy: 0.9137\n",
            "Epoch 27/100\n",
            "211/211 [==============================] - 1s 6ms/step - loss: 0.2000 - accuracy: 0.9290 - val_loss: 0.2499 - val_accuracy: 0.9085\n",
            "Epoch 28/100\n",
            "211/211 [==============================] - 1s 6ms/step - loss: 0.1991 - accuracy: 0.9283 - val_loss: 0.2606 - val_accuracy: 0.9072\n",
            "Epoch 29/100\n",
            "211/211 [==============================] - 1s 6ms/step - loss: 0.1928 - accuracy: 0.9316 - val_loss: 0.2497 - val_accuracy: 0.9117\n",
            "Epoch 30/100\n",
            "211/211 [==============================] - 1s 6ms/step - loss: 0.1952 - accuracy: 0.9299 - val_loss: 0.2423 - val_accuracy: 0.9128\n",
            "Epoch 31/100\n",
            "211/211 [==============================] - 1s 6ms/step - loss: 0.1864 - accuracy: 0.9336 - val_loss: 0.2447 - val_accuracy: 0.9127\n",
            "Epoch 32/100\n",
            "211/211 [==============================] - 1s 6ms/step - loss: 0.1861 - accuracy: 0.9337 - val_loss: 0.2437 - val_accuracy: 0.9115\n",
            "Epoch 33/100\n",
            "211/211 [==============================] - 1s 6ms/step - loss: 0.1823 - accuracy: 0.9341 - val_loss: 0.2396 - val_accuracy: 0.9125\n",
            "Epoch 34/100\n",
            "211/211 [==============================] - 1s 6ms/step - loss: 0.1815 - accuracy: 0.9351 - val_loss: 0.2437 - val_accuracy: 0.9123\n",
            "Epoch 35/100\n",
            "211/211 [==============================] - 1s 6ms/step - loss: 0.1785 - accuracy: 0.9367 - val_loss: 0.2462 - val_accuracy: 0.9137\n",
            "Epoch 36/100\n",
            "211/211 [==============================] - 1s 6ms/step - loss: 0.1753 - accuracy: 0.9371 - val_loss: 0.2532 - val_accuracy: 0.9095\n",
            "Epoch 37/100\n",
            "211/211 [==============================] - 1s 6ms/step - loss: 0.1732 - accuracy: 0.9374 - val_loss: 0.2381 - val_accuracy: 0.9170\n",
            "Epoch 38/100\n",
            "211/211 [==============================] - 1s 6ms/step - loss: 0.1721 - accuracy: 0.9386 - val_loss: 0.2440 - val_accuracy: 0.9122\n",
            "Epoch 39/100\n",
            "211/211 [==============================] - 1s 6ms/step - loss: 0.1681 - accuracy: 0.9391 - val_loss: 0.2476 - val_accuracy: 0.9120\n",
            "Epoch 40/100\n",
            "211/211 [==============================] - 1s 6ms/step - loss: 0.1673 - accuracy: 0.9404 - val_loss: 0.2592 - val_accuracy: 0.9085\n",
            "Epoch 41/100\n",
            "211/211 [==============================] - 1s 6ms/step - loss: 0.1640 - accuracy: 0.9414 - val_loss: 0.2468 - val_accuracy: 0.9128\n",
            "Epoch 42/100\n",
            "211/211 [==============================] - 1s 6ms/step - loss: 0.1637 - accuracy: 0.9416 - val_loss: 0.2436 - val_accuracy: 0.9148\n",
            "Epoch 43/100\n",
            "211/211 [==============================] - 1s 6ms/step - loss: 0.1600 - accuracy: 0.9431 - val_loss: 0.2416 - val_accuracy: 0.9165\n",
            "Epoch 44/100\n",
            "211/211 [==============================] - 1s 6ms/step - loss: 0.1566 - accuracy: 0.9439 - val_loss: 0.2447 - val_accuracy: 0.9117\n",
            "Epoch 45/100\n",
            "211/211 [==============================] - 1s 6ms/step - loss: 0.1598 - accuracy: 0.9424 - val_loss: 0.2534 - val_accuracy: 0.9130\n",
            "Epoch 46/100\n",
            "211/211 [==============================] - 1s 6ms/step - loss: 0.1535 - accuracy: 0.9445 - val_loss: 0.2646 - val_accuracy: 0.9092\n",
            "Epoch 47/100\n",
            "211/211 [==============================] - 1s 6ms/step - loss: 0.1538 - accuracy: 0.9446 - val_loss: 0.2597 - val_accuracy: 0.9103\n",
            "Epoch 48/100\n",
            "211/211 [==============================] - 1s 6ms/step - loss: 0.1547 - accuracy: 0.9449 - val_loss: 0.2671 - val_accuracy: 0.9120\n",
            "Epoch 49/100\n",
            "211/211 [==============================] - 1s 6ms/step - loss: 0.1490 - accuracy: 0.9469 - val_loss: 0.2518 - val_accuracy: 0.9145\n",
            "Epoch 50/100\n",
            "211/211 [==============================] - 1s 6ms/step - loss: 0.1483 - accuracy: 0.9466 - val_loss: 0.2609 - val_accuracy: 0.9095\n",
            "Epoch 51/100\n",
            "211/211 [==============================] - 1s 6ms/step - loss: 0.1480 - accuracy: 0.9472 - val_loss: 0.2597 - val_accuracy: 0.9120\n",
            "Epoch 52/100\n",
            "211/211 [==============================] - 1s 6ms/step - loss: 0.1445 - accuracy: 0.9495 - val_loss: 0.2465 - val_accuracy: 0.9152\n",
            "Epoch 53/100\n",
            "211/211 [==============================] - 1s 6ms/step - loss: 0.1432 - accuracy: 0.9489 - val_loss: 0.2497 - val_accuracy: 0.9145\n",
            "Epoch 54/100\n",
            "211/211 [==============================] - 1s 6ms/step - loss: 0.1427 - accuracy: 0.9486 - val_loss: 0.2551 - val_accuracy: 0.9155\n",
            "Epoch 55/100\n",
            "211/211 [==============================] - 1s 6ms/step - loss: 0.1416 - accuracy: 0.9489 - val_loss: 0.2559 - val_accuracy: 0.9115\n",
            "Epoch 56/100\n",
            "211/211 [==============================] - 1s 6ms/step - loss: 0.1410 - accuracy: 0.9498 - val_loss: 0.2642 - val_accuracy: 0.9125\n",
            "Epoch 57/100\n",
            "211/211 [==============================] - 1s 5ms/step - loss: 0.1353 - accuracy: 0.9515 - val_loss: 0.2697 - val_accuracy: 0.9125\n",
            "Epoch 58/100\n",
            "211/211 [==============================] - 1s 6ms/step - loss: 0.1386 - accuracy: 0.9503 - val_loss: 0.2587 - val_accuracy: 0.9132\n",
            "Epoch 59/100\n",
            "211/211 [==============================] - 1s 6ms/step - loss: 0.1368 - accuracy: 0.9516 - val_loss: 0.2582 - val_accuracy: 0.9145\n",
            "Epoch 60/100\n",
            "211/211 [==============================] - 1s 6ms/step - loss: 0.1342 - accuracy: 0.9520 - val_loss: 0.2514 - val_accuracy: 0.9157\n",
            "Epoch 61/100\n",
            "211/211 [==============================] - 1s 6ms/step - loss: 0.1354 - accuracy: 0.9518 - val_loss: 0.2617 - val_accuracy: 0.9108\n",
            "Epoch 62/100\n",
            "211/211 [==============================] - 1s 6ms/step - loss: 0.1289 - accuracy: 0.9544 - val_loss: 0.2642 - val_accuracy: 0.9128\n",
            "Epoch 63/100\n",
            "211/211 [==============================] - 1s 6ms/step - loss: 0.1301 - accuracy: 0.9536 - val_loss: 0.2624 - val_accuracy: 0.9137\n",
            "Epoch 64/100\n",
            "211/211 [==============================] - 1s 6ms/step - loss: 0.1282 - accuracy: 0.9541 - val_loss: 0.2592 - val_accuracy: 0.9160\n",
            "Epoch 65/100\n",
            "211/211 [==============================] - 1s 6ms/step - loss: 0.1284 - accuracy: 0.9534 - val_loss: 0.2729 - val_accuracy: 0.9097\n",
            "Epoch 66/100\n",
            "211/211 [==============================] - 1s 6ms/step - loss: 0.1248 - accuracy: 0.9559 - val_loss: 0.2664 - val_accuracy: 0.9115\n",
            "Epoch 67/100\n",
            "211/211 [==============================] - 1s 6ms/step - loss: 0.1253 - accuracy: 0.9551 - val_loss: 0.2580 - val_accuracy: 0.9150\n",
            "Epoch 68/100\n",
            "211/211 [==============================] - 1s 6ms/step - loss: 0.1226 - accuracy: 0.9570 - val_loss: 0.2675 - val_accuracy: 0.9130\n",
            "Epoch 69/100\n",
            "211/211 [==============================] - 1s 6ms/step - loss: 0.1203 - accuracy: 0.9570 - val_loss: 0.2629 - val_accuracy: 0.9133\n",
            "Epoch 70/100\n",
            "211/211 [==============================] - 1s 6ms/step - loss: 0.1198 - accuracy: 0.9573 - val_loss: 0.2723 - val_accuracy: 0.9128\n",
            "Epoch 71/100\n",
            "211/211 [==============================] - 1s 6ms/step - loss: 0.1221 - accuracy: 0.9566 - val_loss: 0.2721 - val_accuracy: 0.9122\n",
            "Epoch 72/100\n",
            "211/211 [==============================] - 1s 6ms/step - loss: 0.1185 - accuracy: 0.9581 - val_loss: 0.2782 - val_accuracy: 0.9133\n",
            "Epoch 73/100\n",
            "211/211 [==============================] - 1s 6ms/step - loss: 0.1165 - accuracy: 0.9589 - val_loss: 0.2737 - val_accuracy: 0.9130\n",
            "Epoch 74/100\n",
            "211/211 [==============================] - 1s 6ms/step - loss: 0.1159 - accuracy: 0.9584 - val_loss: 0.2757 - val_accuracy: 0.9130\n",
            "Epoch 75/100\n",
            "211/211 [==============================] - 1s 6ms/step - loss: 0.1134 - accuracy: 0.9591 - val_loss: 0.2769 - val_accuracy: 0.9140\n",
            "Epoch 76/100\n",
            "211/211 [==============================] - 1s 6ms/step - loss: 0.1178 - accuracy: 0.9580 - val_loss: 0.2800 - val_accuracy: 0.9118\n",
            "Epoch 77/100\n",
            "211/211 [==============================] - 1s 6ms/step - loss: 0.1120 - accuracy: 0.9604 - val_loss: 0.2690 - val_accuracy: 0.9155\n",
            "Epoch 78/100\n",
            "211/211 [==============================] - 1s 6ms/step - loss: 0.1107 - accuracy: 0.9610 - val_loss: 0.2888 - val_accuracy: 0.9118\n",
            "Epoch 79/100\n",
            "211/211 [==============================] - 1s 6ms/step - loss: 0.1138 - accuracy: 0.9600 - val_loss: 0.2771 - val_accuracy: 0.9130\n",
            "Epoch 80/100\n",
            "211/211 [==============================] - 1s 6ms/step - loss: 0.1110 - accuracy: 0.9607 - val_loss: 0.2795 - val_accuracy: 0.9130\n",
            "Epoch 81/100\n",
            "211/211 [==============================] - 1s 6ms/step - loss: 0.1069 - accuracy: 0.9625 - val_loss: 0.2995 - val_accuracy: 0.9112\n",
            "Epoch 82/100\n",
            "211/211 [==============================] - 1s 6ms/step - loss: 0.1112 - accuracy: 0.9602 - val_loss: 0.2844 - val_accuracy: 0.9150\n",
            "Epoch 83/100\n",
            "211/211 [==============================] - 1s 6ms/step - loss: 0.1072 - accuracy: 0.9621 - val_loss: 0.2799 - val_accuracy: 0.9143\n",
            "Epoch 84/100\n",
            "211/211 [==============================] - 1s 6ms/step - loss: 0.1085 - accuracy: 0.9615 - val_loss: 0.2851 - val_accuracy: 0.9137\n",
            "Epoch 85/100\n",
            "211/211 [==============================] - 1s 6ms/step - loss: 0.1018 - accuracy: 0.9645 - val_loss: 0.2988 - val_accuracy: 0.9147\n",
            "Epoch 86/100\n",
            "211/211 [==============================] - 1s 6ms/step - loss: 0.1053 - accuracy: 0.9632 - val_loss: 0.3100 - val_accuracy: 0.9088\n",
            "Epoch 87/100\n",
            "211/211 [==============================] - 1s 6ms/step - loss: 0.1025 - accuracy: 0.9642 - val_loss: 0.3047 - val_accuracy: 0.9115\n",
            "Epoch 88/100\n",
            "211/211 [==============================] - 1s 6ms/step - loss: 0.1036 - accuracy: 0.9633 - val_loss: 0.2975 - val_accuracy: 0.9135\n",
            "Epoch 89/100\n",
            "211/211 [==============================] - 1s 6ms/step - loss: 0.1019 - accuracy: 0.9638 - val_loss: 0.2968 - val_accuracy: 0.9132\n",
            "Epoch 90/100\n",
            "211/211 [==============================] - 1s 6ms/step - loss: 0.1012 - accuracy: 0.9645 - val_loss: 0.2980 - val_accuracy: 0.9138\n",
            "Epoch 91/100\n",
            "211/211 [==============================] - 1s 6ms/step - loss: 0.1030 - accuracy: 0.9638 - val_loss: 0.2955 - val_accuracy: 0.9123\n",
            "Epoch 92/100\n",
            "211/211 [==============================] - 1s 6ms/step - loss: 0.1012 - accuracy: 0.9640 - val_loss: 0.2943 - val_accuracy: 0.9127\n",
            "Epoch 93/100\n",
            "211/211 [==============================] - 1s 6ms/step - loss: 0.0998 - accuracy: 0.9650 - val_loss: 0.2915 - val_accuracy: 0.9125\n",
            "Epoch 94/100\n",
            "211/211 [==============================] - 1s 6ms/step - loss: 0.0994 - accuracy: 0.9643 - val_loss: 0.2983 - val_accuracy: 0.9128\n",
            "Epoch 95/100\n",
            "211/211 [==============================] - 1s 6ms/step - loss: 0.0953 - accuracy: 0.9668 - val_loss: 0.3059 - val_accuracy: 0.9135\n",
            "Epoch 96/100\n",
            "211/211 [==============================] - 1s 6ms/step - loss: 0.0984 - accuracy: 0.9650 - val_loss: 0.3011 - val_accuracy: 0.9132\n",
            "Epoch 97/100\n",
            "211/211 [==============================] - 1s 6ms/step - loss: 0.0961 - accuracy: 0.9662 - val_loss: 0.3059 - val_accuracy: 0.9135\n",
            "Epoch 98/100\n",
            "211/211 [==============================] - 1s 6ms/step - loss: 0.0952 - accuracy: 0.9663 - val_loss: 0.3050 - val_accuracy: 0.9138\n",
            "Epoch 99/100\n",
            "211/211 [==============================] - 1s 6ms/step - loss: 0.0958 - accuracy: 0.9661 - val_loss: 0.3003 - val_accuracy: 0.9118\n",
            "Epoch 100/100\n",
            "211/211 [==============================] - 1s 6ms/step - loss: 0.0943 - accuracy: 0.9667 - val_loss: 0.3156 - val_accuracy: 0.9172\n"
          ]
        },
        {
          "output_type": "execute_result",
          "data": {
            "text/plain": [
              "<keras.callbacks.History at 0x7fb9a9a48d10>"
            ]
          },
          "metadata": {},
          "execution_count": 22
        }
      ]
    },
    {
      "cell_type": "code",
      "source": [
        "callback = tf.keras.callbacks.EarlyStopping(monitor='val_loss', patience=5)\n",
        "\n",
        "\n",
        "model3 = Sequential([\n",
        "  Conv2D(16, kernel_size=(3,3), padding='same',activation='relu', input_shape = (28, 28, 1)),\n",
        "  MaxPooling2D(pool_size=(2,2)),\n",
        "  Conv2D(32, kernel_size=(3,3), padding='same',activation='relu'),\n",
        "  MaxPooling2D(pool_size=(2,2)),\n",
        "  Flatten(),  \n",
        "  Dense(10, activation='softmax')\n",
        "])\n",
        "\n",
        "model3.compile(loss='categorical_crossentropy', optimizer='adam', metrics='accuracy')\n",
        "\n",
        "model3.fit(X_train, Y_train, batch_size=256, epochs=100, validation_split=0.1, callbacks=[callback])"
      ],
      "metadata": {
        "colab": {
          "base_uri": "https://localhost:8080/"
        },
        "id": "cfJK6FUgkR6P",
        "outputId": "d0171db4-5aea-4522-8d70-193b84221390"
      },
      "execution_count": null,
      "outputs": [
        {
          "output_type": "stream",
          "name": "stdout",
          "text": [
            "Epoch 1/100\n",
            "211/211 [==============================] - 2s 6ms/step - loss: 0.7671 - accuracy: 0.7437 - val_loss: 0.4644 - val_accuracy: 0.8332\n",
            "Epoch 2/100\n",
            "211/211 [==============================] - 1s 6ms/step - loss: 0.4343 - accuracy: 0.8447 - val_loss: 0.4006 - val_accuracy: 0.8575\n",
            "Epoch 3/100\n",
            "211/211 [==============================] - 1s 6ms/step - loss: 0.3825 - accuracy: 0.8649 - val_loss: 0.3665 - val_accuracy: 0.8665\n",
            "Epoch 4/100\n",
            "211/211 [==============================] - 1s 6ms/step - loss: 0.3500 - accuracy: 0.8775 - val_loss: 0.3518 - val_accuracy: 0.8772\n",
            "Epoch 5/100\n",
            "211/211 [==============================] - 1s 6ms/step - loss: 0.3341 - accuracy: 0.8818 - val_loss: 0.3375 - val_accuracy: 0.8803\n",
            "Epoch 6/100\n",
            "211/211 [==============================] - 1s 6ms/step - loss: 0.3139 - accuracy: 0.8899 - val_loss: 0.3247 - val_accuracy: 0.8828\n",
            "Epoch 7/100\n",
            "211/211 [==============================] - 1s 6ms/step - loss: 0.2994 - accuracy: 0.8945 - val_loss: 0.3136 - val_accuracy: 0.8882\n",
            "Epoch 8/100\n",
            "211/211 [==============================] - 1s 6ms/step - loss: 0.2908 - accuracy: 0.8969 - val_loss: 0.3017 - val_accuracy: 0.8917\n",
            "Epoch 9/100\n",
            "211/211 [==============================] - 1s 5ms/step - loss: 0.2800 - accuracy: 0.9010 - val_loss: 0.2843 - val_accuracy: 0.8972\n",
            "Epoch 10/100\n",
            "211/211 [==============================] - 1s 5ms/step - loss: 0.2724 - accuracy: 0.9047 - val_loss: 0.2971 - val_accuracy: 0.8903\n",
            "Epoch 11/100\n",
            "211/211 [==============================] - 1s 6ms/step - loss: 0.2657 - accuracy: 0.9058 - val_loss: 0.2781 - val_accuracy: 0.9012\n",
            "Epoch 12/100\n",
            "211/211 [==============================] - 1s 6ms/step - loss: 0.2564 - accuracy: 0.9097 - val_loss: 0.2749 - val_accuracy: 0.9018\n",
            "Epoch 13/100\n",
            "211/211 [==============================] - 1s 6ms/step - loss: 0.2507 - accuracy: 0.9116 - val_loss: 0.2702 - val_accuracy: 0.9027\n",
            "Epoch 14/100\n",
            "211/211 [==============================] - 1s 6ms/step - loss: 0.2482 - accuracy: 0.9119 - val_loss: 0.2837 - val_accuracy: 0.8973\n",
            "Epoch 15/100\n",
            "211/211 [==============================] - 1s 6ms/step - loss: 0.2432 - accuracy: 0.9135 - val_loss: 0.3000 - val_accuracy: 0.8892\n",
            "Epoch 16/100\n",
            "211/211 [==============================] - 1s 5ms/step - loss: 0.2377 - accuracy: 0.9157 - val_loss: 0.2876 - val_accuracy: 0.8980\n",
            "Epoch 17/100\n",
            "211/211 [==============================] - 1s 6ms/step - loss: 0.2311 - accuracy: 0.9190 - val_loss: 0.2581 - val_accuracy: 0.9038\n",
            "Epoch 18/100\n",
            "211/211 [==============================] - 1s 6ms/step - loss: 0.2270 - accuracy: 0.9195 - val_loss: 0.2603 - val_accuracy: 0.9012\n",
            "Epoch 19/100\n",
            "211/211 [==============================] - 1s 5ms/step - loss: 0.2226 - accuracy: 0.9205 - val_loss: 0.2528 - val_accuracy: 0.9078\n",
            "Epoch 20/100\n",
            "211/211 [==============================] - 1s 6ms/step - loss: 0.2172 - accuracy: 0.9222 - val_loss: 0.2548 - val_accuracy: 0.9083\n",
            "Epoch 21/100\n",
            "211/211 [==============================] - 1s 6ms/step - loss: 0.2165 - accuracy: 0.9233 - val_loss: 0.2628 - val_accuracy: 0.9020\n",
            "Epoch 22/100\n",
            "211/211 [==============================] - 1s 6ms/step - loss: 0.2117 - accuracy: 0.9249 - val_loss: 0.2660 - val_accuracy: 0.9045\n",
            "Epoch 23/100\n",
            "211/211 [==============================] - 1s 6ms/step - loss: 0.2068 - accuracy: 0.9263 - val_loss: 0.2499 - val_accuracy: 0.9090\n",
            "Epoch 24/100\n",
            "211/211 [==============================] - 1s 6ms/step - loss: 0.2054 - accuracy: 0.9266 - val_loss: 0.2479 - val_accuracy: 0.9107\n",
            "Epoch 25/100\n",
            "211/211 [==============================] - 1s 6ms/step - loss: 0.2019 - accuracy: 0.9271 - val_loss: 0.2446 - val_accuracy: 0.9080\n",
            "Epoch 26/100\n",
            "211/211 [==============================] - 1s 6ms/step - loss: 0.1965 - accuracy: 0.9284 - val_loss: 0.2694 - val_accuracy: 0.9027\n",
            "Epoch 27/100\n",
            "211/211 [==============================] - 1s 6ms/step - loss: 0.1948 - accuracy: 0.9312 - val_loss: 0.2437 - val_accuracy: 0.9120\n",
            "Epoch 28/100\n",
            "211/211 [==============================] - 1s 6ms/step - loss: 0.1946 - accuracy: 0.9299 - val_loss: 0.2512 - val_accuracy: 0.9097\n",
            "Epoch 29/100\n",
            "211/211 [==============================] - 1s 5ms/step - loss: 0.1866 - accuracy: 0.9332 - val_loss: 0.2666 - val_accuracy: 0.9015\n",
            "Epoch 30/100\n",
            "211/211 [==============================] - 1s 6ms/step - loss: 0.1873 - accuracy: 0.9322 - val_loss: 0.2414 - val_accuracy: 0.9105\n",
            "Epoch 31/100\n",
            "211/211 [==============================] - 1s 6ms/step - loss: 0.1838 - accuracy: 0.9351 - val_loss: 0.2409 - val_accuracy: 0.9122\n",
            "Epoch 32/100\n",
            "211/211 [==============================] - 1s 5ms/step - loss: 0.1807 - accuracy: 0.9359 - val_loss: 0.2431 - val_accuracy: 0.9102\n",
            "Epoch 33/100\n",
            "211/211 [==============================] - 1s 6ms/step - loss: 0.1756 - accuracy: 0.9374 - val_loss: 0.2455 - val_accuracy: 0.9112\n",
            "Epoch 34/100\n",
            "211/211 [==============================] - 1s 6ms/step - loss: 0.1746 - accuracy: 0.9382 - val_loss: 0.2452 - val_accuracy: 0.9112\n",
            "Epoch 35/100\n",
            "211/211 [==============================] - 1s 6ms/step - loss: 0.1719 - accuracy: 0.9388 - val_loss: 0.2414 - val_accuracy: 0.9095\n",
            "Epoch 36/100\n",
            "211/211 [==============================] - 1s 5ms/step - loss: 0.1706 - accuracy: 0.9388 - val_loss: 0.2493 - val_accuracy: 0.9102\n"
          ]
        },
        {
          "output_type": "execute_result",
          "data": {
            "text/plain": [
              "<keras.callbacks.History at 0x7fb92a45ded0>"
            ]
          },
          "metadata": {},
          "execution_count": 23
        }
      ]
    },
    {
      "cell_type": "markdown",
      "source": [
        "### Poprawa wyniku\n",
        "* Spróbuj stworzyć 3 sieci, które uzyskają lepszy wynik na zbiorze fashion_mnist. Możesz zmodyfikować naszą prostą sieć lub zaprojektować zupełnie nową. \n",
        "* Poeksperymentuj z modyfikacjami warstw Conv2D (np. zmiana liczby filtrów), dodawaniem warstw Conv2D i Dense. Możesz też dodać Dropout. \n",
        "* Dla każdej z tych sieci przeprowadź ewaluację i wypisz wyniki. "
      ],
      "metadata": {
        "id": "EZr1nupSBcYP"
      }
    },
    {
      "cell_type": "code",
      "source": [
        "from keras.layers import Dropout\n",
        "\n",
        "callback = tf.keras.callbacks.EarlyStopping(monitor='val_loss', patience=5)\n",
        "\n",
        "\n",
        "model5 = Sequential([\n",
        "  Conv2D(64, kernel_size=(3,3), padding='same',activation='relu', input_shape = (28, 28, 1)),\n",
        "  Dropout(0.2),\n",
        "  MaxPooling2D(pool_size=(2,2)),\n",
        "  Dropout(0.2),\n",
        "  Conv2D(32, kernel_size=(3,3), padding='same',activation='relu'),\n",
        "  Dropout(0.2),\n",
        "  MaxPooling2D(pool_size=(2,2)),\n",
        "  Dropout(0.2),\n",
        "  Flatten(),  \n",
        "  Dense(10, activation='softmax')\n",
        "])\n",
        "\n",
        "model5.compile(loss='categorical_crossentropy', optimizer='adam', metrics='accuracy')\n",
        "\n",
        "model5.fit(X_train, Y_train, batch_size=256, epochs=100, validation_split=0.1, callbacks=[callback])"
      ],
      "metadata": {
        "id": "xkUVjs5FBfSo",
        "colab": {
          "base_uri": "https://localhost:8080/"
        },
        "outputId": "f247ba30-2465-44dd-9f7e-fd6c119d9901"
      },
      "execution_count": null,
      "outputs": [
        {
          "output_type": "stream",
          "name": "stdout",
          "text": [
            "Epoch 1/100\n",
            "211/211 [==============================] - 4s 15ms/step - loss: 0.7306 - accuracy: 0.7413 - val_loss: 0.4986 - val_accuracy: 0.8340\n",
            "Epoch 2/100\n",
            "211/211 [==============================] - 3s 14ms/step - loss: 0.4409 - accuracy: 0.8427 - val_loss: 0.4143 - val_accuracy: 0.8655\n",
            "Epoch 3/100\n",
            "211/211 [==============================] - 3s 14ms/step - loss: 0.3845 - accuracy: 0.8639 - val_loss: 0.3729 - val_accuracy: 0.8755\n",
            "Epoch 4/100\n",
            "211/211 [==============================] - 3s 14ms/step - loss: 0.3548 - accuracy: 0.8751 - val_loss: 0.3468 - val_accuracy: 0.8838\n",
            "Epoch 5/100\n",
            "211/211 [==============================] - 3s 14ms/step - loss: 0.3367 - accuracy: 0.8807 - val_loss: 0.3312 - val_accuracy: 0.8915\n",
            "Epoch 6/100\n",
            "211/211 [==============================] - 3s 14ms/step - loss: 0.3229 - accuracy: 0.8856 - val_loss: 0.3249 - val_accuracy: 0.8932\n",
            "Epoch 7/100\n",
            "211/211 [==============================] - 3s 14ms/step - loss: 0.3065 - accuracy: 0.8921 - val_loss: 0.3115 - val_accuracy: 0.8937\n",
            "Epoch 8/100\n",
            "211/211 [==============================] - 3s 14ms/step - loss: 0.2988 - accuracy: 0.8937 - val_loss: 0.3018 - val_accuracy: 0.8997\n",
            "Epoch 9/100\n",
            "211/211 [==============================] - 3s 14ms/step - loss: 0.2877 - accuracy: 0.8959 - val_loss: 0.2965 - val_accuracy: 0.8995\n",
            "Epoch 10/100\n",
            "211/211 [==============================] - 3s 14ms/step - loss: 0.2804 - accuracy: 0.8994 - val_loss: 0.2878 - val_accuracy: 0.9037\n",
            "Epoch 11/100\n",
            "211/211 [==============================] - 3s 14ms/step - loss: 0.2758 - accuracy: 0.9009 - val_loss: 0.2709 - val_accuracy: 0.9102\n",
            "Epoch 12/100\n",
            "211/211 [==============================] - 3s 14ms/step - loss: 0.2691 - accuracy: 0.9040 - val_loss: 0.2714 - val_accuracy: 0.9118\n",
            "Epoch 13/100\n",
            "211/211 [==============================] - 3s 14ms/step - loss: 0.2653 - accuracy: 0.9042 - val_loss: 0.2677 - val_accuracy: 0.9123\n",
            "Epoch 14/100\n",
            "211/211 [==============================] - 3s 14ms/step - loss: 0.2605 - accuracy: 0.9063 - val_loss: 0.2692 - val_accuracy: 0.9087\n",
            "Epoch 15/100\n",
            "211/211 [==============================] - 3s 14ms/step - loss: 0.2540 - accuracy: 0.9091 - val_loss: 0.2585 - val_accuracy: 0.9120\n",
            "Epoch 16/100\n",
            "211/211 [==============================] - 3s 14ms/step - loss: 0.2508 - accuracy: 0.9095 - val_loss: 0.2495 - val_accuracy: 0.9148\n",
            "Epoch 17/100\n",
            "211/211 [==============================] - 3s 14ms/step - loss: 0.2479 - accuracy: 0.9110 - val_loss: 0.2589 - val_accuracy: 0.9147\n",
            "Epoch 18/100\n",
            "211/211 [==============================] - 3s 14ms/step - loss: 0.2445 - accuracy: 0.9117 - val_loss: 0.2502 - val_accuracy: 0.9137\n",
            "Epoch 19/100\n",
            "211/211 [==============================] - 3s 14ms/step - loss: 0.2410 - accuracy: 0.9131 - val_loss: 0.2464 - val_accuracy: 0.9157\n",
            "Epoch 20/100\n",
            "211/211 [==============================] - 3s 14ms/step - loss: 0.2387 - accuracy: 0.9135 - val_loss: 0.2478 - val_accuracy: 0.9178\n",
            "Epoch 21/100\n",
            "211/211 [==============================] - 3s 14ms/step - loss: 0.2339 - accuracy: 0.9156 - val_loss: 0.2418 - val_accuracy: 0.9167\n",
            "Epoch 22/100\n",
            "211/211 [==============================] - 3s 14ms/step - loss: 0.2320 - accuracy: 0.9171 - val_loss: 0.2382 - val_accuracy: 0.9163\n",
            "Epoch 23/100\n",
            "211/211 [==============================] - 3s 14ms/step - loss: 0.2296 - accuracy: 0.9159 - val_loss: 0.2536 - val_accuracy: 0.9137\n",
            "Epoch 24/100\n",
            "211/211 [==============================] - 3s 14ms/step - loss: 0.2308 - accuracy: 0.9152 - val_loss: 0.2344 - val_accuracy: 0.9178\n",
            "Epoch 25/100\n",
            "211/211 [==============================] - 3s 14ms/step - loss: 0.2303 - accuracy: 0.9160 - val_loss: 0.2349 - val_accuracy: 0.9200\n",
            "Epoch 26/100\n",
            "211/211 [==============================] - 3s 14ms/step - loss: 0.2223 - accuracy: 0.9192 - val_loss: 0.2376 - val_accuracy: 0.9187\n",
            "Epoch 27/100\n",
            "211/211 [==============================] - 3s 14ms/step - loss: 0.2198 - accuracy: 0.9207 - val_loss: 0.2329 - val_accuracy: 0.9207\n",
            "Epoch 28/100\n",
            "211/211 [==============================] - 3s 14ms/step - loss: 0.2215 - accuracy: 0.9194 - val_loss: 0.2346 - val_accuracy: 0.9158\n",
            "Epoch 29/100\n",
            "211/211 [==============================] - 3s 14ms/step - loss: 0.2210 - accuracy: 0.9198 - val_loss: 0.2325 - val_accuracy: 0.9230\n",
            "Epoch 30/100\n",
            "211/211 [==============================] - 3s 14ms/step - loss: 0.2167 - accuracy: 0.9220 - val_loss: 0.2287 - val_accuracy: 0.9205\n",
            "Epoch 31/100\n",
            "211/211 [==============================] - 3s 14ms/step - loss: 0.2167 - accuracy: 0.9211 - val_loss: 0.2256 - val_accuracy: 0.9235\n",
            "Epoch 32/100\n",
            "211/211 [==============================] - 3s 14ms/step - loss: 0.2153 - accuracy: 0.9214 - val_loss: 0.2204 - val_accuracy: 0.9232\n",
            "Epoch 33/100\n",
            "211/211 [==============================] - 3s 14ms/step - loss: 0.2130 - accuracy: 0.9219 - val_loss: 0.2285 - val_accuracy: 0.9193\n",
            "Epoch 34/100\n",
            "211/211 [==============================] - 3s 14ms/step - loss: 0.2163 - accuracy: 0.9216 - val_loss: 0.2331 - val_accuracy: 0.9183\n",
            "Epoch 35/100\n",
            "211/211 [==============================] - 3s 14ms/step - loss: 0.2090 - accuracy: 0.9237 - val_loss: 0.2220 - val_accuracy: 0.9232\n",
            "Epoch 36/100\n",
            "211/211 [==============================] - 3s 14ms/step - loss: 0.2087 - accuracy: 0.9235 - val_loss: 0.2246 - val_accuracy: 0.9253\n",
            "Epoch 37/100\n",
            "211/211 [==============================] - 3s 14ms/step - loss: 0.2118 - accuracy: 0.9224 - val_loss: 0.2242 - val_accuracy: 0.9237\n"
          ]
        },
        {
          "output_type": "execute_result",
          "data": {
            "text/plain": [
              "<keras.callbacks.History at 0x7fb929b46590>"
            ]
          },
          "metadata": {},
          "execution_count": 25
        }
      ]
    },
    {
      "cell_type": "code",
      "source": [
        "model5.evaluate(X_test, Y_test)\n",
        "model3.evaluate(X_test, Y_test)\n",
        "#nowy model5 jest lepszy niz ostatni"
      ],
      "metadata": {
        "colab": {
          "base_uri": "https://localhost:8080/"
        },
        "id": "36entiAotdaj",
        "outputId": "f8797b44-79d1-4e0f-a73a-989ebdbf1b31"
      },
      "execution_count": null,
      "outputs": [
        {
          "output_type": "stream",
          "name": "stdout",
          "text": [
            "313/313 [==============================] - 1s 3ms/step - loss: 0.2406 - accuracy: 0.9183\n",
            "313/313 [==============================] - 1s 3ms/step - loss: 0.2644 - accuracy: 0.9068\n"
          ]
        },
        {
          "output_type": "execute_result",
          "data": {
            "text/plain": [
              "[0.26437973976135254, 0.9067999720573425]"
            ]
          },
          "metadata": {},
          "execution_count": 27
        }
      ]
    },
    {
      "cell_type": "code",
      "source": [
        "callback = tf.keras.callbacks.EarlyStopping(monitor='val_loss', patience=8)\n",
        "\n",
        "\n",
        "model6 = Sequential([\n",
        "  Conv2D(64, kernel_size=(3,3), padding='same',activation='relu', input_shape = (28, 28, 1)),\n",
        "  Dropout(0.2),\n",
        "  MaxPooling2D(pool_size=(2,2)),\n",
        "  Dropout(0.2),\n",
        "  Conv2D(32, kernel_size=(3,3), padding='same',activation='relu'),\n",
        "  Dropout(0.2),\n",
        "  MaxPooling2D(pool_size=(2,2)),\n",
        "  Dropout(0.2),\n",
        "  Conv2D(16, kernel_size=(3,3), padding='same',activation='relu'),\n",
        "  Dropout(0.2),\n",
        "  MaxPooling2D(pool_size=(2,2)),\n",
        "  Dropout(0.2),\n",
        "  Flatten(),  \n",
        "  Dense(10, activation='softmax')\n",
        "])\n",
        "\n",
        "model6.compile(loss='categorical_crossentropy', optimizer='adam', metrics='accuracy')\n",
        "\n",
        "model6.fit(X_train, Y_train, batch_size=256, epochs=100, validation_split=0.1, callbacks=[callback])"
      ],
      "metadata": {
        "colab": {
          "base_uri": "https://localhost:8080/"
        },
        "id": "hKd36uFLt_KN",
        "outputId": "3e241669-8534-403b-a016-6973c31e1000"
      },
      "execution_count": null,
      "outputs": [
        {
          "output_type": "stream",
          "name": "stdout",
          "text": [
            "Epoch 1/100\n",
            "211/211 [==============================] - 4s 15ms/step - loss: 1.0791 - accuracy: 0.6004 - val_loss: 0.7193 - val_accuracy: 0.7935\n",
            "Epoch 2/100\n",
            "211/211 [==============================] - 3s 14ms/step - loss: 0.6273 - accuracy: 0.7684 - val_loss: 0.5799 - val_accuracy: 0.8227\n",
            "Epoch 3/100\n",
            "211/211 [==============================] - 3s 14ms/step - loss: 0.5450 - accuracy: 0.7999 - val_loss: 0.5298 - val_accuracy: 0.8460\n",
            "Epoch 4/100\n",
            "211/211 [==============================] - 3s 14ms/step - loss: 0.4985 - accuracy: 0.8184 - val_loss: 0.4804 - val_accuracy: 0.8537\n",
            "Epoch 5/100\n",
            "211/211 [==============================] - 3s 14ms/step - loss: 0.4667 - accuracy: 0.8301 - val_loss: 0.4546 - val_accuracy: 0.8637\n",
            "Epoch 6/100\n",
            "211/211 [==============================] - 3s 14ms/step - loss: 0.4442 - accuracy: 0.8385 - val_loss: 0.4399 - val_accuracy: 0.8728\n",
            "Epoch 7/100\n",
            "211/211 [==============================] - 3s 14ms/step - loss: 0.4211 - accuracy: 0.8474 - val_loss: 0.4144 - val_accuracy: 0.8752\n",
            "Epoch 8/100\n",
            "211/211 [==============================] - 3s 14ms/step - loss: 0.4060 - accuracy: 0.8527 - val_loss: 0.4090 - val_accuracy: 0.8773\n",
            "Epoch 9/100\n",
            "211/211 [==============================] - 3s 15ms/step - loss: 0.3959 - accuracy: 0.8551 - val_loss: 0.3800 - val_accuracy: 0.8820\n",
            "Epoch 10/100\n",
            "211/211 [==============================] - 3s 14ms/step - loss: 0.3849 - accuracy: 0.8606 - val_loss: 0.3851 - val_accuracy: 0.8805\n",
            "Epoch 11/100\n",
            "211/211 [==============================] - 3s 14ms/step - loss: 0.3757 - accuracy: 0.8642 - val_loss: 0.3604 - val_accuracy: 0.8850\n",
            "Epoch 12/100\n",
            "211/211 [==============================] - 3s 14ms/step - loss: 0.3703 - accuracy: 0.8659 - val_loss: 0.3682 - val_accuracy: 0.8885\n",
            "Epoch 13/100\n",
            "211/211 [==============================] - 3s 14ms/step - loss: 0.3648 - accuracy: 0.8689 - val_loss: 0.3593 - val_accuracy: 0.8903\n",
            "Epoch 14/100\n",
            "211/211 [==============================] - 3s 15ms/step - loss: 0.3565 - accuracy: 0.8697 - val_loss: 0.3389 - val_accuracy: 0.8920\n",
            "Epoch 15/100\n",
            "211/211 [==============================] - 3s 15ms/step - loss: 0.3523 - accuracy: 0.8716 - val_loss: 0.3424 - val_accuracy: 0.8922\n",
            "Epoch 16/100\n",
            "211/211 [==============================] - 3s 15ms/step - loss: 0.3471 - accuracy: 0.8736 - val_loss: 0.3413 - val_accuracy: 0.8947\n",
            "Epoch 17/100\n",
            "211/211 [==============================] - 3s 14ms/step - loss: 0.3432 - accuracy: 0.8759 - val_loss: 0.3310 - val_accuracy: 0.8990\n",
            "Epoch 18/100\n",
            "211/211 [==============================] - 3s 15ms/step - loss: 0.3350 - accuracy: 0.8787 - val_loss: 0.3274 - val_accuracy: 0.8927\n",
            "Epoch 19/100\n",
            "211/211 [==============================] - 3s 15ms/step - loss: 0.3341 - accuracy: 0.8781 - val_loss: 0.3268 - val_accuracy: 0.8952\n",
            "Epoch 20/100\n",
            "211/211 [==============================] - 3s 15ms/step - loss: 0.3302 - accuracy: 0.8796 - val_loss: 0.3276 - val_accuracy: 0.8942\n",
            "Epoch 21/100\n",
            "211/211 [==============================] - 3s 15ms/step - loss: 0.3320 - accuracy: 0.8796 - val_loss: 0.3273 - val_accuracy: 0.9020\n",
            "Epoch 22/100\n",
            "211/211 [==============================] - 3s 14ms/step - loss: 0.3242 - accuracy: 0.8806 - val_loss: 0.3071 - val_accuracy: 0.9018\n",
            "Epoch 23/100\n",
            "211/211 [==============================] - 3s 15ms/step - loss: 0.3251 - accuracy: 0.8825 - val_loss: 0.3182 - val_accuracy: 0.9025\n",
            "Epoch 24/100\n",
            "211/211 [==============================] - 3s 15ms/step - loss: 0.3217 - accuracy: 0.8831 - val_loss: 0.3010 - val_accuracy: 0.8993\n",
            "Epoch 25/100\n",
            "211/211 [==============================] - 3s 15ms/step - loss: 0.3210 - accuracy: 0.8831 - val_loss: 0.3022 - val_accuracy: 0.9022\n",
            "Epoch 26/100\n",
            "211/211 [==============================] - 3s 15ms/step - loss: 0.3174 - accuracy: 0.8837 - val_loss: 0.2995 - val_accuracy: 0.9047\n",
            "Epoch 27/100\n",
            "211/211 [==============================] - 3s 15ms/step - loss: 0.3170 - accuracy: 0.8835 - val_loss: 0.3000 - val_accuracy: 0.9057\n",
            "Epoch 28/100\n",
            "211/211 [==============================] - 3s 15ms/step - loss: 0.3123 - accuracy: 0.8857 - val_loss: 0.3106 - val_accuracy: 0.8950\n",
            "Epoch 29/100\n",
            "211/211 [==============================] - 3s 14ms/step - loss: 0.3103 - accuracy: 0.8874 - val_loss: 0.2988 - val_accuracy: 0.9038\n",
            "Epoch 30/100\n",
            "211/211 [==============================] - 3s 15ms/step - loss: 0.3087 - accuracy: 0.8871 - val_loss: 0.2910 - val_accuracy: 0.9060\n",
            "Epoch 31/100\n",
            "211/211 [==============================] - 3s 15ms/step - loss: 0.3079 - accuracy: 0.8879 - val_loss: 0.2969 - val_accuracy: 0.9037\n",
            "Epoch 32/100\n",
            "211/211 [==============================] - 3s 15ms/step - loss: 0.3020 - accuracy: 0.8895 - val_loss: 0.2854 - val_accuracy: 0.9058\n",
            "Epoch 33/100\n",
            "211/211 [==============================] - 3s 15ms/step - loss: 0.3062 - accuracy: 0.8888 - val_loss: 0.2839 - val_accuracy: 0.9062\n",
            "Epoch 34/100\n",
            "211/211 [==============================] - 3s 15ms/step - loss: 0.3040 - accuracy: 0.8883 - val_loss: 0.2789 - val_accuracy: 0.9080\n",
            "Epoch 35/100\n",
            "211/211 [==============================] - 3s 14ms/step - loss: 0.3028 - accuracy: 0.8888 - val_loss: 0.2815 - val_accuracy: 0.9090\n",
            "Epoch 36/100\n",
            "211/211 [==============================] - 3s 15ms/step - loss: 0.3009 - accuracy: 0.8902 - val_loss: 0.2913 - val_accuracy: 0.9013\n",
            "Epoch 37/100\n",
            "211/211 [==============================] - 3s 14ms/step - loss: 0.2984 - accuracy: 0.8894 - val_loss: 0.2759 - val_accuracy: 0.9072\n",
            "Epoch 38/100\n",
            "211/211 [==============================] - 3s 14ms/step - loss: 0.2986 - accuracy: 0.8905 - val_loss: 0.2810 - val_accuracy: 0.9092\n",
            "Epoch 39/100\n",
            "211/211 [==============================] - 3s 15ms/step - loss: 0.2977 - accuracy: 0.8903 - val_loss: 0.2879 - val_accuracy: 0.9105\n",
            "Epoch 40/100\n",
            "211/211 [==============================] - 3s 14ms/step - loss: 0.2948 - accuracy: 0.8924 - val_loss: 0.2809 - val_accuracy: 0.9088\n",
            "Epoch 41/100\n",
            "211/211 [==============================] - 3s 14ms/step - loss: 0.2951 - accuracy: 0.8918 - val_loss: 0.2869 - val_accuracy: 0.9087\n",
            "Epoch 42/100\n",
            "211/211 [==============================] - 3s 14ms/step - loss: 0.2950 - accuracy: 0.8916 - val_loss: 0.2840 - val_accuracy: 0.9065\n",
            "Epoch 43/100\n",
            "211/211 [==============================] - 3s 15ms/step - loss: 0.2941 - accuracy: 0.8935 - val_loss: 0.2747 - val_accuracy: 0.9092\n",
            "Epoch 44/100\n",
            "211/211 [==============================] - 3s 15ms/step - loss: 0.2924 - accuracy: 0.8936 - val_loss: 0.2770 - val_accuracy: 0.9083\n",
            "Epoch 45/100\n",
            "211/211 [==============================] - 3s 15ms/step - loss: 0.2906 - accuracy: 0.8945 - val_loss: 0.2769 - val_accuracy: 0.9035\n",
            "Epoch 46/100\n",
            "211/211 [==============================] - 3s 14ms/step - loss: 0.2891 - accuracy: 0.8930 - val_loss: 0.2863 - val_accuracy: 0.9068\n",
            "Epoch 47/100\n",
            "211/211 [==============================] - 3s 15ms/step - loss: 0.2904 - accuracy: 0.8939 - val_loss: 0.2687 - val_accuracy: 0.9093\n",
            "Epoch 48/100\n",
            "211/211 [==============================] - 3s 15ms/step - loss: 0.2903 - accuracy: 0.8927 - val_loss: 0.2806 - val_accuracy: 0.9072\n",
            "Epoch 49/100\n",
            "211/211 [==============================] - 3s 14ms/step - loss: 0.2852 - accuracy: 0.8960 - val_loss: 0.2729 - val_accuracy: 0.9095\n",
            "Epoch 50/100\n",
            "211/211 [==============================] - 3s 16ms/step - loss: 0.2868 - accuracy: 0.8951 - val_loss: 0.2680 - val_accuracy: 0.9105\n",
            "Epoch 51/100\n",
            "211/211 [==============================] - 3s 15ms/step - loss: 0.2867 - accuracy: 0.8957 - val_loss: 0.2711 - val_accuracy: 0.9105\n",
            "Epoch 52/100\n",
            "211/211 [==============================] - 3s 15ms/step - loss: 0.2840 - accuracy: 0.8948 - val_loss: 0.2685 - val_accuracy: 0.9093\n",
            "Epoch 53/100\n",
            "211/211 [==============================] - 3s 15ms/step - loss: 0.2858 - accuracy: 0.8947 - val_loss: 0.2781 - val_accuracy: 0.9095\n",
            "Epoch 54/100\n",
            "211/211 [==============================] - 3s 15ms/step - loss: 0.2842 - accuracy: 0.8964 - val_loss: 0.2761 - val_accuracy: 0.9110\n",
            "Epoch 55/100\n",
            "211/211 [==============================] - 3s 15ms/step - loss: 0.2829 - accuracy: 0.8956 - val_loss: 0.2640 - val_accuracy: 0.9143\n",
            "Epoch 56/100\n",
            "211/211 [==============================] - 3s 15ms/step - loss: 0.2823 - accuracy: 0.8974 - val_loss: 0.2609 - val_accuracy: 0.9128\n",
            "Epoch 57/100\n",
            "211/211 [==============================] - 3s 14ms/step - loss: 0.2836 - accuracy: 0.8971 - val_loss: 0.2694 - val_accuracy: 0.9113\n",
            "Epoch 58/100\n",
            "211/211 [==============================] - 3s 15ms/step - loss: 0.2804 - accuracy: 0.8981 - val_loss: 0.2567 - val_accuracy: 0.9143\n",
            "Epoch 59/100\n",
            "211/211 [==============================] - 3s 15ms/step - loss: 0.2817 - accuracy: 0.8973 - val_loss: 0.2608 - val_accuracy: 0.9088\n",
            "Epoch 60/100\n",
            "211/211 [==============================] - 3s 15ms/step - loss: 0.2765 - accuracy: 0.8991 - val_loss: 0.2590 - val_accuracy: 0.9133\n",
            "Epoch 61/100\n",
            "211/211 [==============================] - 3s 15ms/step - loss: 0.2765 - accuracy: 0.8982 - val_loss: 0.2564 - val_accuracy: 0.9163\n",
            "Epoch 62/100\n",
            "211/211 [==============================] - 3s 15ms/step - loss: 0.2782 - accuracy: 0.8984 - val_loss: 0.2628 - val_accuracy: 0.9123\n",
            "Epoch 63/100\n",
            "211/211 [==============================] - 3s 14ms/step - loss: 0.2785 - accuracy: 0.8977 - val_loss: 0.2601 - val_accuracy: 0.9138\n",
            "Epoch 64/100\n",
            "211/211 [==============================] - 3s 15ms/step - loss: 0.2789 - accuracy: 0.8973 - val_loss: 0.2537 - val_accuracy: 0.9142\n",
            "Epoch 65/100\n",
            "211/211 [==============================] - 3s 15ms/step - loss: 0.2789 - accuracy: 0.8986 - val_loss: 0.2635 - val_accuracy: 0.9127\n",
            "Epoch 66/100\n",
            "211/211 [==============================] - 3s 15ms/step - loss: 0.2791 - accuracy: 0.8976 - val_loss: 0.2610 - val_accuracy: 0.9135\n",
            "Epoch 67/100\n",
            "211/211 [==============================] - 3s 15ms/step - loss: 0.2735 - accuracy: 0.9016 - val_loss: 0.2524 - val_accuracy: 0.9127\n",
            "Epoch 68/100\n",
            "211/211 [==============================] - 3s 14ms/step - loss: 0.2732 - accuracy: 0.8986 - val_loss: 0.2662 - val_accuracy: 0.9135\n",
            "Epoch 69/100\n",
            "211/211 [==============================] - 3s 14ms/step - loss: 0.2735 - accuracy: 0.9003 - val_loss: 0.2588 - val_accuracy: 0.9132\n",
            "Epoch 70/100\n",
            "211/211 [==============================] - 3s 15ms/step - loss: 0.2735 - accuracy: 0.8997 - val_loss: 0.2628 - val_accuracy: 0.9153\n",
            "Epoch 71/100\n",
            "211/211 [==============================] - 3s 15ms/step - loss: 0.2770 - accuracy: 0.8989 - val_loss: 0.2613 - val_accuracy: 0.9167\n",
            "Epoch 72/100\n",
            "211/211 [==============================] - 3s 15ms/step - loss: 0.2732 - accuracy: 0.8993 - val_loss: 0.2467 - val_accuracy: 0.9150\n",
            "Epoch 73/100\n",
            "211/211 [==============================] - 3s 15ms/step - loss: 0.2744 - accuracy: 0.9008 - val_loss: 0.2515 - val_accuracy: 0.9163\n",
            "Epoch 74/100\n",
            "211/211 [==============================] - 3s 15ms/step - loss: 0.2723 - accuracy: 0.8998 - val_loss: 0.2540 - val_accuracy: 0.9110\n",
            "Epoch 75/100\n",
            "211/211 [==============================] - 3s 15ms/step - loss: 0.2773 - accuracy: 0.8984 - val_loss: 0.2527 - val_accuracy: 0.9147\n",
            "Epoch 76/100\n",
            "211/211 [==============================] - 3s 15ms/step - loss: 0.2706 - accuracy: 0.9002 - val_loss: 0.2441 - val_accuracy: 0.9190\n",
            "Epoch 77/100\n",
            "211/211 [==============================] - 3s 14ms/step - loss: 0.2721 - accuracy: 0.9006 - val_loss: 0.2485 - val_accuracy: 0.9173\n",
            "Epoch 78/100\n",
            "211/211 [==============================] - 3s 15ms/step - loss: 0.2714 - accuracy: 0.9001 - val_loss: 0.2495 - val_accuracy: 0.9172\n",
            "Epoch 79/100\n",
            "211/211 [==============================] - 3s 14ms/step - loss: 0.2701 - accuracy: 0.9009 - val_loss: 0.2582 - val_accuracy: 0.9153\n",
            "Epoch 80/100\n",
            "211/211 [==============================] - 3s 15ms/step - loss: 0.2731 - accuracy: 0.8990 - val_loss: 0.2454 - val_accuracy: 0.9178\n",
            "Epoch 81/100\n",
            "211/211 [==============================] - 3s 15ms/step - loss: 0.2687 - accuracy: 0.9018 - val_loss: 0.2444 - val_accuracy: 0.9178\n",
            "Epoch 82/100\n",
            "211/211 [==============================] - 3s 15ms/step - loss: 0.2693 - accuracy: 0.9027 - val_loss: 0.2464 - val_accuracy: 0.9182\n",
            "Epoch 83/100\n",
            "211/211 [==============================] - 3s 15ms/step - loss: 0.2674 - accuracy: 0.9018 - val_loss: 0.2495 - val_accuracy: 0.9203\n",
            "Epoch 84/100\n",
            "211/211 [==============================] - 3s 15ms/step - loss: 0.2721 - accuracy: 0.8996 - val_loss: 0.2485 - val_accuracy: 0.9173\n"
          ]
        },
        {
          "output_type": "execute_result",
          "data": {
            "text/plain": [
              "<keras.callbacks.History at 0x7fb894337f90>"
            ]
          },
          "metadata": {},
          "execution_count": 28
        }
      ]
    },
    {
      "cell_type": "markdown",
      "source": [
        "To wszystko. Dziękuję! "
      ],
      "metadata": {
        "id": "PdTBNmC4JBWv"
      }
    },
    {
      "cell_type": "code",
      "source": [
        "model6.evaluate(X_test, Y_test)\n",
        "#znowu mamy lepszy wynik, model znaczenie dluzej sie trenowal."
      ],
      "metadata": {
        "colab": {
          "base_uri": "https://localhost:8080/"
        },
        "id": "U7GWdDe2t6t2",
        "outputId": "1bd25ce4-5996-4001-d1c2-ab30fac123d3"
      },
      "execution_count": null,
      "outputs": [
        {
          "output_type": "stream",
          "name": "stdout",
          "text": [
            "313/313 [==============================] - 2s 5ms/step - loss: 0.2621 - accuracy: 0.9116\n"
          ]
        },
        {
          "output_type": "execute_result",
          "data": {
            "text/plain": [
              "[0.26210805773735046, 0.9115999937057495]"
            ]
          },
          "metadata": {},
          "execution_count": 29
        }
      ]
    },
    {
      "cell_type": "code",
      "source": [
        "callback = tf.keras.callbacks.EarlyStopping(monitor='val_loss', patience=8)\n",
        "\n",
        "\n",
        "model7 = Sequential([\n",
        "  Conv2D(64, kernel_size=(3,3), padding='same',activation='relu', input_shape = (28, 28, 1)),\n",
        "  \n",
        "  MaxPooling2D(pool_size=(2,2)),\n",
        "  \n",
        "  Conv2D(32, kernel_size=(3,3), padding='same',activation='relu'),\n",
        "  \n",
        "  MaxPooling2D(pool_size=(2,2)),\n",
        "  \n",
        "  Conv2D(16, kernel_size=(3,3), padding='same',activation='relu'),\n",
        "  \n",
        "  MaxPooling2D(pool_size=(2,2)),\n",
        "  Dropout(0.2),\n",
        "  Flatten(),\n",
        "  Dense(100, activation='relu'),\n",
        "  Dense(10, activation='softmax')\n",
        "])\n",
        "\n",
        "model7.compile(loss='categorical_crossentropy', optimizer='adam', metrics='accuracy')\n",
        "\n",
        "model7.fit(X_train, Y_train, batch_size=256, epochs=100, validation_split=0.1, callbacks=[callback])"
      ],
      "metadata": {
        "colab": {
          "base_uri": "https://localhost:8080/"
        },
        "id": "CsO_Wmkvvq75",
        "outputId": "f7036e03-c10c-4a15-cfd4-ea03a1ef5ad9"
      },
      "execution_count": null,
      "outputs": [
        {
          "output_type": "stream",
          "name": "stdout",
          "text": [
            "Epoch 1/100\n",
            "211/211 [==============================] - 3s 11ms/step - loss: 0.8552 - accuracy: 0.6842 - val_loss: 0.4872 - val_accuracy: 0.8203\n",
            "Epoch 2/100\n",
            "211/211 [==============================] - 2s 10ms/step - loss: 0.4957 - accuracy: 0.8200 - val_loss: 0.4043 - val_accuracy: 0.8512\n",
            "Epoch 3/100\n",
            "211/211 [==============================] - 2s 10ms/step - loss: 0.4261 - accuracy: 0.8467 - val_loss: 0.3717 - val_accuracy: 0.8632\n",
            "Epoch 4/100\n",
            "211/211 [==============================] - 2s 10ms/step - loss: 0.3897 - accuracy: 0.8591 - val_loss: 0.3419 - val_accuracy: 0.8783\n",
            "Epoch 5/100\n",
            "211/211 [==============================] - 2s 10ms/step - loss: 0.3635 - accuracy: 0.8695 - val_loss: 0.3562 - val_accuracy: 0.8695\n",
            "Epoch 6/100\n",
            "211/211 [==============================] - 2s 10ms/step - loss: 0.3474 - accuracy: 0.8737 - val_loss: 0.3109 - val_accuracy: 0.8855\n",
            "Epoch 7/100\n",
            "211/211 [==============================] - 2s 10ms/step - loss: 0.3301 - accuracy: 0.8793 - val_loss: 0.3182 - val_accuracy: 0.8830\n",
            "Epoch 8/100\n",
            "211/211 [==============================] - 2s 10ms/step - loss: 0.3221 - accuracy: 0.8822 - val_loss: 0.2877 - val_accuracy: 0.8932\n",
            "Epoch 9/100\n",
            "211/211 [==============================] - 2s 10ms/step - loss: 0.3077 - accuracy: 0.8879 - val_loss: 0.2857 - val_accuracy: 0.8932\n",
            "Epoch 10/100\n",
            "211/211 [==============================] - 2s 10ms/step - loss: 0.3010 - accuracy: 0.8886 - val_loss: 0.2739 - val_accuracy: 0.8967\n",
            "Epoch 11/100\n",
            "211/211 [==============================] - 2s 10ms/step - loss: 0.2911 - accuracy: 0.8926 - val_loss: 0.2695 - val_accuracy: 0.8963\n",
            "Epoch 12/100\n",
            "211/211 [==============================] - 2s 10ms/step - loss: 0.2828 - accuracy: 0.8957 - val_loss: 0.2692 - val_accuracy: 0.9002\n",
            "Epoch 13/100\n",
            "211/211 [==============================] - 2s 10ms/step - loss: 0.2808 - accuracy: 0.8963 - val_loss: 0.2670 - val_accuracy: 0.8970\n",
            "Epoch 14/100\n",
            "211/211 [==============================] - 2s 10ms/step - loss: 0.2692 - accuracy: 0.8997 - val_loss: 0.2638 - val_accuracy: 0.9015\n",
            "Epoch 15/100\n",
            "211/211 [==============================] - 2s 10ms/step - loss: 0.2633 - accuracy: 0.9033 - val_loss: 0.2549 - val_accuracy: 0.9048\n",
            "Epoch 16/100\n",
            "211/211 [==============================] - 2s 10ms/step - loss: 0.2592 - accuracy: 0.9043 - val_loss: 0.2550 - val_accuracy: 0.9043\n",
            "Epoch 17/100\n",
            "211/211 [==============================] - 2s 10ms/step - loss: 0.2520 - accuracy: 0.9059 - val_loss: 0.2486 - val_accuracy: 0.9073\n",
            "Epoch 18/100\n",
            "211/211 [==============================] - 2s 10ms/step - loss: 0.2467 - accuracy: 0.9088 - val_loss: 0.2399 - val_accuracy: 0.9108\n",
            "Epoch 19/100\n",
            "211/211 [==============================] - 2s 10ms/step - loss: 0.2444 - accuracy: 0.9102 - val_loss: 0.2417 - val_accuracy: 0.9080\n",
            "Epoch 20/100\n",
            "211/211 [==============================] - 2s 10ms/step - loss: 0.2383 - accuracy: 0.9126 - val_loss: 0.2451 - val_accuracy: 0.9073\n",
            "Epoch 21/100\n",
            "211/211 [==============================] - 2s 10ms/step - loss: 0.2356 - accuracy: 0.9122 - val_loss: 0.2379 - val_accuracy: 0.9140\n",
            "Epoch 22/100\n",
            "211/211 [==============================] - 2s 10ms/step - loss: 0.2298 - accuracy: 0.9147 - val_loss: 0.2372 - val_accuracy: 0.9112\n",
            "Epoch 23/100\n",
            "211/211 [==============================] - 2s 10ms/step - loss: 0.2272 - accuracy: 0.9149 - val_loss: 0.2546 - val_accuracy: 0.9038\n",
            "Epoch 24/100\n",
            "211/211 [==============================] - 2s 10ms/step - loss: 0.2224 - accuracy: 0.9179 - val_loss: 0.2334 - val_accuracy: 0.9130\n",
            "Epoch 25/100\n",
            "211/211 [==============================] - 2s 10ms/step - loss: 0.2217 - accuracy: 0.9192 - val_loss: 0.2265 - val_accuracy: 0.9173\n",
            "Epoch 26/100\n",
            "211/211 [==============================] - 2s 10ms/step - loss: 0.2175 - accuracy: 0.9190 - val_loss: 0.2299 - val_accuracy: 0.9130\n",
            "Epoch 27/100\n",
            "211/211 [==============================] - 2s 10ms/step - loss: 0.2141 - accuracy: 0.9200 - val_loss: 0.2342 - val_accuracy: 0.9152\n",
            "Epoch 28/100\n",
            "211/211 [==============================] - 2s 10ms/step - loss: 0.2087 - accuracy: 0.9226 - val_loss: 0.2422 - val_accuracy: 0.9133\n",
            "Epoch 29/100\n",
            "211/211 [==============================] - 2s 10ms/step - loss: 0.2103 - accuracy: 0.9219 - val_loss: 0.2222 - val_accuracy: 0.9210\n",
            "Epoch 30/100\n",
            "211/211 [==============================] - 2s 10ms/step - loss: 0.2067 - accuracy: 0.9234 - val_loss: 0.2403 - val_accuracy: 0.9165\n",
            "Epoch 31/100\n",
            "211/211 [==============================] - 2s 10ms/step - loss: 0.2021 - accuracy: 0.9250 - val_loss: 0.2290 - val_accuracy: 0.9155\n",
            "Epoch 32/100\n",
            "211/211 [==============================] - 2s 10ms/step - loss: 0.2001 - accuracy: 0.9253 - val_loss: 0.2290 - val_accuracy: 0.9147\n",
            "Epoch 33/100\n",
            "211/211 [==============================] - 2s 10ms/step - loss: 0.2011 - accuracy: 0.9247 - val_loss: 0.2270 - val_accuracy: 0.9160\n",
            "Epoch 34/100\n",
            "211/211 [==============================] - 2s 10ms/step - loss: 0.1962 - accuracy: 0.9263 - val_loss: 0.2298 - val_accuracy: 0.9167\n",
            "Epoch 35/100\n",
            "211/211 [==============================] - 2s 10ms/step - loss: 0.1939 - accuracy: 0.9281 - val_loss: 0.2344 - val_accuracy: 0.9153\n",
            "Epoch 36/100\n",
            "211/211 [==============================] - 2s 10ms/step - loss: 0.1914 - accuracy: 0.9287 - val_loss: 0.2233 - val_accuracy: 0.9168\n",
            "Epoch 37/100\n",
            "211/211 [==============================] - 2s 10ms/step - loss: 0.1893 - accuracy: 0.9288 - val_loss: 0.2254 - val_accuracy: 0.9190\n"
          ]
        },
        {
          "output_type": "execute_result",
          "data": {
            "text/plain": [
              "<keras.callbacks.History at 0x7fb89434c4d0>"
            ]
          },
          "metadata": {},
          "execution_count": 30
        }
      ]
    },
    {
      "cell_type": "code",
      "source": [
        "model7.evaluate(X_test, Y_test)\n",
        "#znowu lepiej"
      ],
      "metadata": {
        "colab": {
          "base_uri": "https://localhost:8080/"
        },
        "id": "Jwk-uIr2w0XD",
        "outputId": "727e53d9-230f-4b8c-fdc3-0ad2fcd08a4d"
      },
      "execution_count": null,
      "outputs": [
        {
          "output_type": "stream",
          "name": "stdout",
          "text": [
            "313/313 [==============================] - 1s 3ms/step - loss: 0.2400 - accuracy: 0.9150\n"
          ]
        },
        {
          "output_type": "execute_result",
          "data": {
            "text/plain": [
              "[0.2399909943342209, 0.9150000214576721]"
            ]
          },
          "metadata": {},
          "execution_count": 31
        }
      ]
    }
  ]
}